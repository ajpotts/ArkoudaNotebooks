{
 "cells": [
  {
   "cell_type": "code",
   "execution_count": null,
   "id": "da9fd267-7e56-4f93-a70c-dd2f0ba42207",
   "metadata": {},
   "outputs": [],
   "source": [
    "import arkouda as ak\n",
    "import numpy as np\n",
    "import pandas as pd\n",
    "import inspect\n",
    "\n",
    "from arkouda import Series, DataFrame\n",
    "from typing import List, Optional, Tuple, Union\n",
    "from pandas.testing import assert_frame_equal, assert_series_equal\n",
    "\n",
    "ak.connect()"
   ]
  },
  {
   "cell_type": "markdown",
   "id": "8f5e4dfe-637a-47d8-825e-a169162477c4",
   "metadata": {},
   "source": [
    "# Example 1"
   ]
  },
  {
   "cell_type": "code",
   "execution_count": null,
   "id": "bae55898-460e-4df0-be95-a17fd136452e",
   "metadata": {},
   "outputs": [],
   "source": [
    "data = {\"key1\":[\"valuew\",\"valuex\",\"valuew\",\"valuex\"],\"key2\":[\"valueA\",\"valueB\",\"valueA\",\"valueB\"],\"key3\":[\"value1\",\"value2\",\"value3\",\"value4\"],\"count\":[34,25,11,4],\"nums\":[1,2,5,21]}\n",
    "\n",
    "pd_df = pd.DataFrame(data)\n",
    "ak_df = ak.DataFrame({k:ak.array(v) for k,v in data.items()})\n",
    "#spark_df = spark.createDataFrame(pd_df)\n",
    "\n",
    "print(\"\\nPandas DF\\n\")\n",
    "display(pd_df)\n",
    "\n",
    "print(\"\\nArkouda DF\\n\")\n",
    "display(ak_df)\n"
   ]
  },
  {
   "cell_type": "code",
   "execution_count": null,
   "id": "06e1c8c6-7b64-4711-96bd-80b773ffede0",
   "metadata": {},
   "outputs": [],
   "source": [
    "pd_result1 = pd_df.groupby([\"key1\",\"key2\"],as_index=False).size()\n",
    "\n",
    "ak_result1 = ak_df.groupby([\"key1\",\"key2\"],as_index=False).size()\n",
    "\n",
    "\n",
    "print(\"\\nPandas Result\\n\")\n",
    "print(\"Type: \" + str(type(pd_result1)) + \"\\n\")\n",
    "display(pd_result1)\n",
    "\n",
    "print(\"\\nArkouda Result\\n\")\n",
    "print(\"Type: \" + str(type(ak_result1)) + \"\\n\")\n",
    "display(ak_result1)\n",
    "\n",
    "type(ak_result1) == ak.dataframe.DataFrame\n"
   ]
  },
  {
   "cell_type": "code",
   "execution_count": null,
   "id": "3bc785b6-211f-4ffd-9709-76995f3be7eb",
   "metadata": {},
   "outputs": [],
   "source": [
    "assert_frame_equal(pd_result1, ak_result1.to_pandas(retain_index=True))\n",
    "assert type(ak_result1) == ak.dataframe.DataFrame"
   ]
  },
  {
   "cell_type": "code",
   "execution_count": null,
   "id": "fd06e6b0-d6ba-4aab-b3da-41a64473b3ea",
   "metadata": {},
   "outputs": [],
   "source": [
    "print(type(pd_df.groupby([\"key1\",\"key2\"],as_index=False).size()))\n",
    "print(type(pd_df.groupby([\"key1\"],as_index=False).size()))\n",
    "print(type(pd_df.groupby(\"key1\",as_index=False).size()))\n",
    "print(type(pd_df.groupby(\"key1\").size()))"
   ]
  },
  {
   "cell_type": "code",
   "execution_count": null,
   "id": "2d47f3de-2a3e-4738-ad61-f98bda21f4c1",
   "metadata": {},
   "outputs": [],
   "source": [
    "print(type(ak_df.groupby([\"key1\",\"key2\"],as_index=False).size()))\n",
    "print(type(ak_df.groupby([\"key1\"],as_index=False).size()))\n",
    "print(type(ak_df.groupby(\"key1\",as_index=False).size()))\n",
    "print(type(ak_df.groupby(\"key1\").size(as_series=True)))"
   ]
  },
  {
   "cell_type": "code",
   "execution_count": null,
   "id": "34286871-91ee-4582-8738-3544f895e7b8",
   "metadata": {},
   "outputs": [],
   "source": [
    "assert_frame_equal(ak_df.groupby([\"key1\",\"key2\"],as_index=False).size().to_pandas(retain_index=True),\n",
    "                           pd_df.groupby([\"key1\",\"key2\"],as_index=False).size())   "
   ]
  },
  {
   "cell_type": "code",
   "execution_count": null,
   "id": "73d1eac1-caa7-474b-af2b-d9036d2a6084",
   "metadata": {},
   "outputs": [],
   "source": [
    "assert_frame_equal(ak_df.groupby([\"key1\"],as_index=False).size().to_pandas(retain_index=True),\n",
    "                           pd_df.groupby([\"key1\"],as_index=False).size())   "
   ]
  },
  {
   "cell_type": "code",
   "execution_count": null,
   "id": "ca913fff-b394-4145-9edb-a68962b75ffa",
   "metadata": {},
   "outputs": [],
   "source": [
    "assert_frame_equal(ak_df.groupby(\"key1\",as_index=False).size().to_pandas(retain_index=True),\n",
    "                           pd_df.groupby(\"key1\",as_index=False).size())   "
   ]
  },
  {
   "cell_type": "code",
   "execution_count": null,
   "id": "21e5155b-a256-4d15-92ee-b336fe486cd0",
   "metadata": {},
   "outputs": [],
   "source": [
    "assert_series_equal(ak_df.groupby(\"key1\").size(as_series=True).to_pandas(),\n",
    "                           pd_df.groupby(\"key1\").size())"
   ]
  },
  {
   "cell_type": "code",
   "execution_count": null,
   "id": "fff679de-f3ac-4ae2-b39b-663e39be63f1",
   "metadata": {},
   "outputs": [],
   "source": [
    "ak_df.groupby(\"key1\").size().to_pandas()"
   ]
  },
  {
   "cell_type": "code",
   "execution_count": null,
   "id": "2b24f379-3ef4-491f-b582-55f12e6c96c9",
   "metadata": {},
   "outputs": [],
   "source": [
    "pd_df.groupby(\"key1\").size()"
   ]
  },
  {
   "cell_type": "code",
   "execution_count": null,
   "id": "a54aa331-56ce-4b19-ab6f-58a912c19a1f",
   "metadata": {},
   "outputs": [],
   "source": [
    "pd1 = pd_df.groupby([\"key1\",\"key2\"],as_index=False).size()\n",
    "ak1 = ak_df.groupby([\"key1\",\"key2\"],as_index=False).size()\n",
    "\n",
    "print(type(pd1 ))\n",
    "display(pd1)\n",
    "\n",
    "print(type(ak1))\n",
    "display(ak1)\n",
    "\n",
    "assert_frame_equal(pd1, ak1.to_pandas())\n"
   ]
  },
  {
   "cell_type": "code",
   "execution_count": null,
   "id": "be54086b-45bf-4fb7-b6d9-a5ef997b78e6",
   "metadata": {},
   "outputs": [],
   "source": [
    "print(ak_df.groupby([\"key1\",\"key2\"],as_index=True).as_index)\n",
    "\n",
    "pd2 = pd_df.groupby([\"key1\",\"key2\"],as_index=True).size()\n",
    "ak2 = ak_df.groupby([\"key1\",\"key2\"],as_index=True).size()\n",
    "\n",
    "\n",
    "\n",
    "print(type(pd2 ))\n",
    "display(pd2)\n",
    "\n",
    "print(type(ak2))\n",
    "display(ak2)\n",
    "\n",
    "# NOTE:  Arkouda does not name index columns, so check_names has to be False to pass the test\n",
    "assert_series_equal(pd2, ak2.to_pandas(),check_names=False)"
   ]
  },
  {
   "cell_type": "code",
   "execution_count": null,
   "id": "c3cefb69-c7b0-4037-9973-06807a38b3f6",
   "metadata": {},
   "outputs": [],
   "source": [
    "pd3 = pd_df.groupby([\"key1\"],as_index=False).size()\n",
    "ak3 = ak_df.groupby([\"key1\"],as_index=False).size()\n",
    "\n",
    "print(type(pd3 ))\n",
    "display(pd3)\n",
    "\n",
    "print(type(ak3))\n",
    "display(ak3)\n",
    "\n",
    "assert_frame_equal(pd3, ak3.to_pandas())"
   ]
  },
  {
   "cell_type": "code",
   "execution_count": null,
   "id": "3b6c85e6-5e20-4ab1-9839-8ffbd280e945",
   "metadata": {},
   "outputs": [],
   "source": [
    "pd4 = pd_df.groupby([\"key1\"],as_index=True).size()\n",
    "ak4 = ak_df.groupby([\"key1\"],as_index=True).size()\n",
    "\n",
    "print(type(pd4))\n",
    "display(pd4)\n",
    "\n",
    "print(type(ak4))\n",
    "display(ak4)\n",
    "\n",
    "assert_series_equal(pd4, ak4.to_pandas())"
   ]
  },
  {
   "cell_type": "code",
   "execution_count": null,
   "id": "d017ac6e-7751-479e-b453-0a939bdf423b",
   "metadata": {},
   "outputs": [],
   "source": [
    "pd5 = pd_df.groupby(\"key1\",as_index=False).size()\n",
    "ak5 = ak_df.groupby(\"key1\",as_index=False).size()\n",
    "\n",
    "print(type(pd5))\n",
    "display(pd5)\n",
    "\n",
    "print(type(ak5))\n",
    "display(ak5)\n",
    "\n",
    "assert_frame_equal(pd5, ak5.to_pandas())"
   ]
  },
  {
   "cell_type": "code",
   "execution_count": null,
   "id": "2e77b03e-8375-4da0-8b9c-d9affa976863",
   "metadata": {},
   "outputs": [],
   "source": [
    "pd6 = pd_df.groupby(\"key1\",as_index=True).size()\n",
    "ak6 = ak_df.groupby(\"key1\",as_index=True).size()\n",
    "\n",
    "print(type(pd6))\n",
    "display(pd6)\n",
    "\n",
    "print(type(ak6))\n",
    "display(ak6)\n",
    "\n",
    "assert_series_equal(pd6, ak6.to_pandas())"
   ]
  },
  {
   "cell_type": "markdown",
   "id": "2118d51b-fd63-42d6-ae6d-fb277ece9d51",
   "metadata": {},
   "source": [
    "# Example 2"
   ]
  },
  {
   "cell_type": "code",
   "execution_count": null,
   "id": "52a38fe3-009f-4406-b025-95a0a8b0f9d6",
   "metadata": {},
   "outputs": [],
   "source": [
    "ak_df = DataFrame({\"gb_id\":ak.randint(0, 5, 20, dtype=ak.int64),\n",
    "                   \"float64\":ak.randint(0, 1, 20, dtype=ak.float64),\n",
    "                  \"int64\":ak.randint(0, 10, 20, dtype=ak.int64),\n",
    "                    \"uint64\":ak.randint(0, 10, 20, dtype=ak.uint64),\n",
    "                   \"bigint\":ak.randint(0, 10, 20, dtype=ak.uint64)+ 2**200\n",
    "                  }\n",
    "                    )\n",
    "display(ak_df)"
   ]
  },
  {
   "cell_type": "code",
   "execution_count": null,
   "id": "755618d1-35a3-4a7d-a67e-206b8387b179",
   "metadata": {},
   "outputs": [],
   "source": [
    "pd_df = ak_df.to_pandas()\n",
    "display(pd_df)"
   ]
  },
  {
   "cell_type": "code",
   "execution_count": null,
   "id": "6271f0d5-eb16-465f-87db-3afe0faa6560",
   "metadata": {},
   "outputs": [],
   "source": [
    "display(pd_df.groupby(['gb_id']).size())\n",
    "print(\"\\n\")\n",
    "display(ak_df.groupby('gb_id').size())"
   ]
  },
  {
   "cell_type": "code",
   "execution_count": null,
   "id": "4cf133b8-d808-4140-a1e9-4ec5388e6466",
   "metadata": {},
   "outputs": [],
   "source": [
    "display(pd_df.groupby(['gb_id'],as_index = False).size())\n",
    "print(\"\\n\")\n",
    "display(ak_df.groupby('gb_id', as_index  = False).size())"
   ]
  },
  {
   "cell_type": "code",
   "execution_count": null,
   "id": "548220df-b0f0-4a71-9bbc-f0adec8143b6",
   "metadata": {},
   "outputs": [],
   "source": [
    "display(ak_df.groupby('gb_id',as_index=False).size().to_pandas(retain_index=True))\n",
    "display(pd_df.groupby('gb_id',as_index=False).size())\n",
    "\n",
    "assert_frame_equal(ak_df.groupby('gb_id',as_index=False).size().to_pandas(retain_index=True),\n",
    "                           pd_df.groupby('gb_id',as_index=False).size())        "
   ]
  },
  {
   "cell_type": "code",
   "execution_count": null,
   "id": "78f68133-75f5-40a2-9ff7-aa4d211dbc72",
   "metadata": {},
   "outputs": [],
   "source": [
    "assert_series_equal(ak_df.groupby('gb_id',as_index=True).size(as_series=True).to_pandas(),\n",
    "                           pd_df.groupby('gb_id',as_index=True).size()) "
   ]
  },
  {
   "cell_type": "code",
   "execution_count": null,
   "id": "fd73cb1f-7d4a-4e8c-aed0-03753756f2f5",
   "metadata": {},
   "outputs": [],
   "source": [
    "assert_frame_equal(ak_df.groupby(['gb_id'], as_index=False).size().to_pandas(retain_index=True),\n",
    "                           pd_df.groupby(['gb_id'], as_index=False).size())"
   ]
  },
  {
   "cell_type": "markdown",
   "id": "c1ab21a3-d174-475e-aa88-db500ddaa89a",
   "metadata": {},
   "source": [
    "# Code Inspection"
   ]
  },
  {
   "cell_type": "code",
   "execution_count": null,
   "id": "40b396d2-985b-43e4-b1fd-2aec9ee44770",
   "metadata": {},
   "outputs": [],
   "source": [
    "lines = inspect.getsource(pd.core.groupby.generic.DataFrameGroupBy.size)\n",
    "print(lines)"
   ]
  },
  {
   "cell_type": "code",
   "execution_count": null,
   "id": "c99fd879-157a-4f57-b2f7-1cc6b1f759ff",
   "metadata": {},
   "outputs": [],
   "source": [
    "lines = inspect.getsource(ak.dataframe.GroupBy.size)\n",
    "print(lines)"
   ]
  },
  {
   "cell_type": "markdown",
   "id": "fa92785e-57e4-4bc0-a25e-c148a49f9c0f",
   "metadata": {},
   "source": [
    "# More Examples"
   ]
  },
  {
   "cell_type": "code",
   "execution_count": null,
   "id": "5df90118-9f68-44e8-8b7c-8e4f3252fb35",
   "metadata": {},
   "outputs": [],
   "source": [
    "def build_ak_df_example2():\n",
    "    data = {\"key1\":[\"valuew\", \"valuex\", \"valuew\", \"valuex\"], \"key2\":[\"valueA\", \"valueB\", \"valueA\", \"valueB\"], \"key3\":[\"value1\", \"value2\", \"value3\", \"value4\"], \"count\":[34, 25, 11, 4], \"nums\":[1, 2, 5, 21]}\n",
    "    ak_df = ak.DataFrame({k:ak.array(v) for k, v in data.items()})\n",
    "    return ak_df\n",
    "\n",
    "\n",
    "def build_ak_df_example3():\n",
    "    ak_df = ak.DataFrame({\"gb_id\":ak.randint(0, 5, 20, dtype=ak.int64),\n",
    "               \"float64\":ak.randint(0, 1, 20, dtype=ak.float64),\n",
    "              \"int64\":ak.randint(0, 10, 20, dtype=ak.int64),\n",
    "                \"uint64\":ak.randint(0, 10, 20, dtype=ak.uint64),\n",
    "               \"bigint\":ak.randint(0, 10, 20, dtype=ak.uint64) + 2 ** 200\n",
    "              }\n",
    "                )\n",
    "    return ak_df"
   ]
  },
  {
   "cell_type": "code",
   "execution_count": null,
   "id": "6e49cc0a-367b-488b-a026-c49ab13106f4",
   "metadata": {},
   "outputs": [],
   "source": [
    "    def build_pd_df():\n",
    "        username = [\"Alice\", \"Bob\", \"Alice\", \"Carol\", \"Bob\", \"Alice\"]\n",
    "        userid = [111, 222, 111, 333, 222, 111]\n",
    "        item = [0, 0, 1, 1, 2, 0]\n",
    "        day = [5, 5, 6, 5, 6, 6]\n",
    "        amount = [0.5, 0.6, 1.1, 1.2, 4.3, 0.6]\n",
    "        bi = [2 ** 200, 2 ** 200 + 1, 2 ** 200 + 2, 2 ** 200 + 3, 2 ** 200 + 4, 2 ** 200 + 5]\n",
    "        ui = (np.arange(6).astype(ak.uint64)) + 2 ** 63\n",
    "        return pd.DataFrame(\n",
    "            {\n",
    "                \"userName\": username,\n",
    "                \"userID\": userid,\n",
    "                \"item\": item,\n",
    "                \"day\": day,\n",
    "                \"amount\": amount,\n",
    "                \"bi\": bi,\n",
    "                \"ui\": ui,\n",
    "            }\n",
    "        )"
   ]
  },
  {
   "cell_type": "code",
   "execution_count": null,
   "id": "1c33b8fe-4908-441e-a156-048453d625ce",
   "metadata": {},
   "outputs": [],
   "source": [
    "\n",
    "    def build_ak_df():\n",
    "        return ak.DataFrame(build_pd_df())"
   ]
  },
  {
   "cell_type": "code",
   "execution_count": null,
   "id": "af11be14-2745-4d5a-b43d-c7fc0647ddea",
   "metadata": {},
   "outputs": [],
   "source": []
  },
  {
   "cell_type": "code",
   "execution_count": null,
   "id": "9e49fac0-55b9-49dc-bb16-9d3fefc14474",
   "metadata": {},
   "outputs": [],
   "source": [
    "data = [[1, np.nan, 3], [1, np.nan, 6], [7, 8, 9]]\n",
    "\n",
    "pd_df = pd.DataFrame(data, columns=[\"a\", \"b\", \"c\"],\n",
    "                  index=[\"cow\", \"horse\", \"bull\"])\n",
    "ak_df = ak.DataFrame({\"a\":[1,1,7],\"b\":[np.nan,np.nan,8],\"c\":[3,6,9]},\n",
    "                  index=[\"cow\", \"horse\", \"bull\"])"
   ]
  },
  {
   "cell_type": "code",
   "execution_count": null,
   "id": "2e4b54e0-2d22-47b5-9170-44693364f004",
   "metadata": {},
   "outputs": [],
   "source": [
    "display(pd_df)"
   ]
  },
  {
   "cell_type": "code",
   "execution_count": null,
   "id": "1574de22-3984-40d8-b136-7ba2b41f588d",
   "metadata": {},
   "outputs": [],
   "source": [
    "display(ak_df)"
   ]
  },
  {
   "cell_type": "code",
   "execution_count": null,
   "id": "b663c440-e67a-42b2-b8b1-f8772f147edc",
   "metadata": {},
   "outputs": [],
   "source": [
    "pd_df.groupby(\"a\").size()"
   ]
  },
  {
   "cell_type": "code",
   "execution_count": null,
   "id": "5fb3aa42-d231-4b05-9003-c78f81221a18",
   "metadata": {},
   "outputs": [],
   "source": [
    "ak_df.groupby(\"a\").size()"
   ]
  },
  {
   "cell_type": "code",
   "execution_count": null,
   "id": "2aea0c2b-b4ac-4f9f-b1f3-ec2e22a05605",
   "metadata": {},
   "outputs": [],
   "source": [
    "pd_df.groupby(\"b\").size()"
   ]
  },
  {
   "cell_type": "code",
   "execution_count": null,
   "id": "fc1c9e24-332f-43e4-8f46-a810a6713812",
   "metadata": {},
   "outputs": [],
   "source": [
    "ak_df.groupby(\"b\").size()"
   ]
  },
  {
   "cell_type": "code",
   "execution_count": null,
   "id": "e6c3e794-a399-4408-9c88-f7b3171ed1bd",
   "metadata": {},
   "outputs": [],
   "source": [
    "pd_df.groupby([\"a\",\"b\"]).size()"
   ]
  },
  {
   "cell_type": "code",
   "execution_count": null,
   "id": "96125516-0a89-4bfd-9eeb-a964c998249e",
   "metadata": {},
   "outputs": [],
   "source": [
    "ak_df.groupby([\"a\",\"b\"]).size()"
   ]
  },
  {
   "cell_type": "code",
   "execution_count": null,
   "id": "fbec4b5a-c33e-4be9-8ab4-2066e99f0152",
   "metadata": {},
   "outputs": [],
   "source": []
  }
 ],
 "metadata": {
  "kernelspec": {
   "display_name": "Python 3 (ipykernel)",
   "language": "python",
   "name": "python3"
  },
  "language_info": {
   "codemirror_mode": {
    "name": "ipython",
    "version": 3
   },
   "file_extension": ".py",
   "mimetype": "text/x-python",
   "name": "python",
   "nbconvert_exporter": "python",
   "pygments_lexer": "ipython3",
   "version": "3.10.13"
  }
 },
 "nbformat": 4,
 "nbformat_minor": 5
}
