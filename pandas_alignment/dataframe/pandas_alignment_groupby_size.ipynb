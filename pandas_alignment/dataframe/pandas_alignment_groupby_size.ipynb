{
 "cells": [
  {
   "cell_type": "code",
   "execution_count": null,
   "id": "da9fd267-7e56-4f93-a70c-dd2f0ba42207",
   "metadata": {},
   "outputs": [],
   "source": [
    "import arkouda as ak\n",
    "import numpy as np\n",
    "import pandas as pd\n",
    "import inspect\n",
    "\n",
    "from arkouda import Series, DataFrame\n",
    "from typing import List, Optional, Tuple, Union\n",
    "from pandas.testing import assert_frame_equal, assert_series_equal\n",
    "\n",
    "ak.connect()"
   ]
  },
  {
   "cell_type": "markdown",
   "id": "8f5e4dfe-637a-47d8-825e-a169162477c4",
   "metadata": {},
   "source": [
    "# Example 1"
   ]
  },
  {
   "cell_type": "code",
   "execution_count": null,
   "id": "bae55898-460e-4df0-be95-a17fd136452e",
   "metadata": {},
   "outputs": [],
   "source": [
    "data = {\"key1\":[\"valuew\",\"valuex\",\"valuew\",\"valuex\"],\"key2\":[\"valueA\",\"valueB\",\"valueA\",\"valueB\"],\"key3\":[\"value1\",\"value2\",\"value3\",\"value4\"],\"count\":[34,25,11,4],\"nums\":[1,2,5,21]}\n",
    "\n",
    "pd_df = pd.DataFrame(data)\n",
    "ak_df = ak.DataFrame({k:ak.array(v) for k,v in data.items()})\n",
    "#spark_df = spark.createDataFrame(pd_df)\n",
    "\n",
    "print(\"\\nPandas DF\\n\")\n",
    "display(pd_df)\n",
    "\n",
    "print(\"\\nArkouda DF\\n\")\n",
    "display(ak_df)\n"
   ]
  },
  {
   "cell_type": "code",
   "execution_count": null,
   "id": "06e1c8c6-7b64-4711-96bd-80b773ffede0",
   "metadata": {},
   "outputs": [],
   "source": [
    "pd_result1 = pd_df.groupby([\"key1\",\"key2\"],as_index=False).size()\n",
    "\n",
    "ak_result1 = ak_df.groupby([\"key1\",\"key2\"],use_series=True).size()\n",
    "\n",
    "\n",
    "print(\"\\nPandas Result\\n\")\n",
    "print(\"Type: \" + str(type(pd_result1)) + \"\\n\")\n",
    "display(pd_result1)\n",
    "\n",
    "print(\"\\nArkouda Result\\n\")\n",
    "print(\"Type: \" + str(type(ak_result1)) + \"\\n\")\n",
    "display(ak_result1)\n",
    "\n",
    "type(ak_result1) == ak.dataframe.DataFrame\n"
   ]
  },
  {
   "cell_type": "code",
   "execution_count": null,
   "id": "3bc785b6-211f-4ffd-9709-76995f3be7eb",
   "metadata": {},
   "outputs": [],
   "source": [
    "assert_frame_equal(pd_result1, ak_result1.to_pandas(retain_index=True))\n",
    "assert type(ak_result1) == ak.dataframe.DataFrame"
   ]
  },
  {
   "cell_type": "code",
   "execution_count": null,
   "id": "fd06e6b0-d6ba-4aab-b3da-41a64473b3ea",
   "metadata": {},
   "outputs": [],
   "source": [
    "print(type(pd_df.groupby([\"key1\",\"key2\"],as_index=False).size()))\n",
    "print(type(pd_df.groupby([\"key1\"],as_index=False).size()))\n",
    "print(type(pd_df.groupby(\"key1\",as_index=False).size()))\n",
    "print(type(pd_df.groupby(\"key1\").size()))"
   ]
  },
  {
   "cell_type": "code",
   "execution_count": null,
   "id": "2d47f3de-2a3e-4738-ad61-f98bda21f4c1",
   "metadata": {},
   "outputs": [],
   "source": [
    "print(type(ak_df.groupby([\"key1\",\"key2\"],as_index=False).size()))\n",
    "print(type(ak_df.groupby([\"key1\"],as_index=False).size()))\n",
    "print(type(ak_df.groupby(\"key1\",as_index=False).size()))\n",
    "print(type(ak_df.groupby(\"key1\").size(as_series=True)))"
   ]
  },
  {
   "cell_type": "code",
   "execution_count": null,
   "id": "34286871-91ee-4582-8738-3544f895e7b8",
   "metadata": {},
   "outputs": [],
   "source": [
    "assert_frame_equal(ak_df.groupby([\"key1\",\"key2\"],as_index=False).size().to_pandas(retain_index=True),\n",
    "                           pd_df.groupby([\"key1\",\"key2\"],as_index=False).size())   "
   ]
  },
  {
   "cell_type": "code",
   "execution_count": null,
   "id": "73d1eac1-caa7-474b-af2b-d9036d2a6084",
   "metadata": {},
   "outputs": [],
   "source": [
    "assert_frame_equal(ak_df.groupby([\"key1\"],as_index=False).size().to_pandas(retain_index=True),\n",
    "                           pd_df.groupby([\"key1\"],as_index=False).size())   "
   ]
  },
  {
   "cell_type": "code",
   "execution_count": null,
   "id": "ca913fff-b394-4145-9edb-a68962b75ffa",
   "metadata": {},
   "outputs": [],
   "source": [
    "assert_frame_equal(ak_df.groupby(\"key1\",as_index=False).size().to_pandas(retain_index=True),\n",
    "                           pd_df.groupby(\"key1\",as_index=False).size())   "
   ]
  },
  {
   "cell_type": "code",
   "execution_count": null,
   "id": "21e5155b-a256-4d15-92ee-b336fe486cd0",
   "metadata": {},
   "outputs": [],
   "source": [
    "assert_series_equal(ak_df.groupby(\"key1\").size(as_series=True).to_pandas(),\n",
    "                           pd_df.groupby(\"key1\").size())"
   ]
  },
  {
   "cell_type": "code",
   "execution_count": null,
   "id": "fff679de-f3ac-4ae2-b39b-663e39be63f1",
   "metadata": {},
   "outputs": [],
   "source": [
    "ak_df.groupby(\"key1\").size(as_series=True).to_pandas()"
   ]
  },
  {
   "cell_type": "code",
   "execution_count": null,
   "id": "2b24f379-3ef4-491f-b582-55f12e6c96c9",
   "metadata": {},
   "outputs": [],
   "source": [
    "pd_df.groupby(\"key1\").size()"
   ]
  },
  {
   "cell_type": "markdown",
   "id": "2118d51b-fd63-42d6-ae6d-fb277ece9d51",
   "metadata": {},
   "source": [
    "# Example 2"
   ]
  },
  {
   "cell_type": "code",
   "execution_count": null,
   "id": "52a38fe3-009f-4406-b025-95a0a8b0f9d6",
   "metadata": {},
   "outputs": [],
   "source": [
    "ak_df = DataFrame({\"gb_id\":ak.randint(0, 5, 20, dtype=ak.int64),\n",
    "                   \"float64\":ak.randint(0, 1, 20, dtype=ak.float64),\n",
    "                  \"int64\":ak.randint(0, 10, 20, dtype=ak.int64),\n",
    "                    \"uint64\":ak.randint(0, 10, 20, dtype=ak.uint64),\n",
    "                   \"bigint\":ak.randint(0, 10, 20, dtype=ak.uint64)+ 2**200\n",
    "                  }\n",
    "                    )\n",
    "display(ak_df)"
   ]
  },
  {
   "cell_type": "code",
   "execution_count": null,
   "id": "755618d1-35a3-4a7d-a67e-206b8387b179",
   "metadata": {},
   "outputs": [],
   "source": [
    "pd_df = ak_df.to_pandas()\n",
    "display(pd_df)"
   ]
  },
  {
   "cell_type": "code",
   "execution_count": null,
   "id": "6271f0d5-eb16-465f-87db-3afe0faa6560",
   "metadata": {},
   "outputs": [],
   "source": [
    "display(pd_df.groupby(['gb_id'],as_index = True).size())\n",
    "print(\"\\n\")\n",
    "display(ak_df.groupby('gb_id').size(as_series=True))"
   ]
  },
  {
   "cell_type": "code",
   "execution_count": null,
   "id": "083c7f63-d3c0-48fe-8d17-b1dc02817bfd",
   "metadata": {},
   "outputs": [],
   "source": [
    "ak_df.groupby('gb_id',as_index=True).size()"
   ]
  },
  {
   "cell_type": "code",
   "execution_count": null,
   "id": "4cf133b8-d808-4140-a1e9-4ec5388e6466",
   "metadata": {},
   "outputs": [],
   "source": [
    "display(pd_df.groupby(['gb_id'],as_index = False).size())\n",
    "print(\"\\n\")\n",
    "display(ak_df.groupby('gb_id', as_index  = False).size())"
   ]
  },
  {
   "cell_type": "code",
   "execution_count": null,
   "id": "548220df-b0f0-4a71-9bbc-f0adec8143b6",
   "metadata": {},
   "outputs": [],
   "source": [
    "display(ak_df.groupby('gb_id',as_index=False).size().to_pandas(retain_index=True))\n",
    "display(pd_df.groupby('gb_id',as_index=False).size())\n",
    "assert_frame_equal(ak_df.groupby('gb_id',as_index=False).size().to_pandas(retain_index=True),\n",
    "                           pd_df.groupby('gb_id',as_index=False).size())        \n",
    " \n"
   ]
  },
  {
   "cell_type": "code",
   "execution_count": null,
   "id": "78f68133-75f5-40a2-9ff7-aa4d211dbc72",
   "metadata": {},
   "outputs": [],
   "source": [
    "assert_series_equal(ak_df.groupby('gb_id',as_index=True).size(as_series=True).to_pandas(),\n",
    "                           pd_df.groupby('gb_id',as_index=True).size()) "
   ]
  },
  {
   "cell_type": "code",
   "execution_count": null,
   "id": "fd73cb1f-7d4a-4e8c-aed0-03753756f2f5",
   "metadata": {},
   "outputs": [],
   "source": [
    "assert_frame_equal(ak_df.groupby(['gb_id'], as_index=False).size().to_pandas(retain_index=True),\n",
    "                           pd_df.groupby(['gb_id'], as_index=False).size())"
   ]
  },
  {
   "cell_type": "markdown",
   "id": "c1ab21a3-d174-475e-aa88-db500ddaa89a",
   "metadata": {},
   "source": [
    "# Code Inspection"
   ]
  },
  {
   "cell_type": "code",
   "execution_count": null,
   "id": "40b396d2-985b-43e4-b1fd-2aec9ee44770",
   "metadata": {},
   "outputs": [],
   "source": [
    "lines = inspect.getsource(pd.core.groupby.generic.DataFrameGroupBy.size)\n",
    "print(lines)"
   ]
  },
  {
   "cell_type": "code",
   "execution_count": null,
   "id": "c99fd879-157a-4f57-b2f7-1cc6b1f759ff",
   "metadata": {},
   "outputs": [],
   "source": [
    "lines = inspect.getsource(ak.dataframe.GroupBy.size)\n",
    "print(lines)"
   ]
  },
  {
   "cell_type": "markdown",
   "id": "fa92785e-57e4-4bc0-a25e-c148a49f9c0f",
   "metadata": {},
   "source": [
    "# Working"
   ]
  },
  {
   "cell_type": "code",
   "execution_count": null,
   "id": "5df90118-9f68-44e8-8b7c-8e4f3252fb35",
   "metadata": {},
   "outputs": [],
   "source": [
    "def build_ak_df_example2():\n",
    "    data = {\"key1\":[\"valuew\", \"valuex\", \"valuew\", \"valuex\"], \"key2\":[\"valueA\", \"valueB\", \"valueA\", \"valueB\"], \"key3\":[\"value1\", \"value2\", \"value3\", \"value4\"], \"count\":[34, 25, 11, 4], \"nums\":[1, 2, 5, 21]}\n",
    "    ak_df = ak.DataFrame({k:ak.array(v) for k, v in data.items()})\n",
    "    return ak_df\n",
    "\n",
    "\n",
    "def build_ak_df_example3():\n",
    "    ak_df = ak.DataFrame({\"gb_id\":ak.randint(0, 5, 20, dtype=ak.int64),\n",
    "               \"float64\":ak.randint(0, 1, 20, dtype=ak.float64),\n",
    "              \"int64\":ak.randint(0, 10, 20, dtype=ak.int64),\n",
    "                \"uint64\":ak.randint(0, 10, 20, dtype=ak.uint64),\n",
    "               \"bigint\":ak.randint(0, 10, 20, dtype=ak.uint64) + 2 ** 200\n",
    "              }\n",
    "                )\n",
    "    return ak_df"
   ]
  },
  {
   "cell_type": "code",
   "execution_count": null,
   "id": "6e49cc0a-367b-488b-a026-c49ab13106f4",
   "metadata": {},
   "outputs": [],
   "source": [
    "    def build_pd_df():\n",
    "        username = [\"Alice\", \"Bob\", \"Alice\", \"Carol\", \"Bob\", \"Alice\"]\n",
    "        userid = [111, 222, 111, 333, 222, 111]\n",
    "        item = [0, 0, 1, 1, 2, 0]\n",
    "        day = [5, 5, 6, 5, 6, 6]\n",
    "        amount = [0.5, 0.6, 1.1, 1.2, 4.3, 0.6]\n",
    "        bi = [2 ** 200, 2 ** 200 + 1, 2 ** 200 + 2, 2 ** 200 + 3, 2 ** 200 + 4, 2 ** 200 + 5]\n",
    "        ui = (np.arange(6).astype(ak.uint64)) + 2 ** 63\n",
    "        return pd.DataFrame(\n",
    "            {\n",
    "                \"userName\": username,\n",
    "                \"userID\": userid,\n",
    "                \"item\": item,\n",
    "                \"day\": day,\n",
    "                \"amount\": amount,\n",
    "                \"bi\": bi,\n",
    "                \"ui\": ui,\n",
    "            }\n",
    "        )"
   ]
  },
  {
   "cell_type": "code",
   "execution_count": null,
   "id": "1c33b8fe-4908-441e-a156-048453d625ce",
   "metadata": {},
   "outputs": [],
   "source": [
    "\n",
    "    def build_ak_df():\n",
    "        return ak.DataFrame(build_pd_df())"
   ]
  },
  {
   "cell_type": "code",
   "execution_count": null,
   "id": "af11be14-2745-4d5a-b43d-c7fc0647ddea",
   "metadata": {},
   "outputs": [],
   "source": []
  },
  {
   "cell_type": "code",
   "execution_count": null,
   "id": "9e49fac0-55b9-49dc-bb16-9d3fefc14474",
   "metadata": {},
   "outputs": [],
   "source": []
  },
  {
   "cell_type": "code",
   "execution_count": null,
   "id": "2e4b54e0-2d22-47b5-9170-44693364f004",
   "metadata": {},
   "outputs": [],
   "source": []
  }
 ],
 "metadata": {
  "kernelspec": {
   "display_name": "Python 3 (ipykernel)",
   "language": "python",
   "name": "python3"
  },
  "language_info": {
   "codemirror_mode": {
    "name": "ipython",
    "version": 3
   },
   "file_extension": ".py",
   "mimetype": "text/x-python",
   "name": "python",
   "nbconvert_exporter": "python",
   "pygments_lexer": "ipython3",
   "version": "3.10.13"
  }
 },
 "nbformat": 4,
 "nbformat_minor": 5
}
