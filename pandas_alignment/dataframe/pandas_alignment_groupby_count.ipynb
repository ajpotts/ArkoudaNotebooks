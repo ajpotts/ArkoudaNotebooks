{
 "cells": [
  {
   "cell_type": "code",
   "execution_count": null,
   "id": "da9fd267-7e56-4f93-a70c-dd2f0ba42207",
   "metadata": {},
   "outputs": [],
   "source": [
    "import arkouda as ak\n",
    "import numpy as np\n",
    "import pandas as pd\n",
    "import inspect\n",
    "\n",
    "from arkouda import Series, DataFrame\n",
    "from typing import List, Optional, Tuple, Union\n",
    "from pandas.testing import assert_frame_equal\n",
    "\n",
    "ak.connect()"
   ]
  },
  {
   "cell_type": "markdown",
   "id": "8f5e4dfe-637a-47d8-825e-a169162477c4",
   "metadata": {},
   "source": [
    "# Example 1"
   ]
  },
  {
   "cell_type": "code",
   "execution_count": null,
   "id": "bae55898-460e-4df0-be95-a17fd136452e",
   "metadata": {},
   "outputs": [],
   "source": [
    "data = {\"key1\":[\"valuew\",\"valuex\",\"valuew\",\"valuex\"],\n",
    "        \"key2\":[\"valueA\",\"valueB\",\"valueA\",\"valueB\"],\n",
    "        \"key3\":[\"value1\",\"value2\",\"value3\",\"value4\"],\n",
    "        \"count\":[34,25,11,4],\n",
    "        \"nums\":[1,2,5,21]}\n",
    "\n",
    "pd_df = pd.DataFrame(data)\n",
    "ak_df = ak.DataFrame({k:ak.array(v) for k,v in data.items()})\n",
    "#spark_df = spark.createDataFrame(pd_df)\n",
    "\n",
    "print(\"\\nPandas DF\\n\")\n",
    "display(pd_df)\n",
    "\n",
    "print(\"\\nArkouda DF\\n\")\n",
    "display(ak_df)\n"
   ]
  },
  {
   "cell_type": "code",
   "execution_count": null,
   "id": "06e1c8c6-7b64-4711-96bd-80b773ffede0",
   "metadata": {},
   "outputs": [],
   "source": [
    "pd_result1 = pd_df.groupby([\"key1\",\"key2\"]).count()\n",
    "ak_result1 = ak_df.groupby([\"key1\",\"key2\"], as_index = False).count()\n",
    "\n",
    "print(\"\\nPandas Result\\n\")\n",
    "print(\"Type: \" + str(type(pd_result1)) + \"\\n\")\n",
    "display(pd_result1)\n",
    "\n",
    "print(\"\\nArkouda Result\\n\")\n",
    "print(\"Type: \" + str(type(ak_result1)) + \"\\n\")\n",
    "display(ak_result1)\n"
   ]
  },
  {
   "cell_type": "code",
   "execution_count": null,
   "id": "3bc785b6-211f-4ffd-9709-76995f3be7eb",
   "metadata": {},
   "outputs": [],
   "source": [
    "pd_result1 = pd_df.groupby([\"key1\", \"key2\"], as_index=False).count().drop(['nums','key3'], axis=1)\n",
    "display(pd_result1)\n",
    "ak_result1 = ak_df.groupby([\"key1\", \"key2\"], as_index=False).count()\n",
    "display(ak_result1)\n",
    "assert_frame_equal(pd_result1, ak_result1.to_pandas(retain_index=True))\n",
    "assert type(ak_result1) == ak.dataframe.DataFrame"
   ]
  },
  {
   "cell_type": "markdown",
   "id": "2118d51b-fd63-42d6-ae6d-fb277ece9d51",
   "metadata": {},
   "source": [
    "# Example 2"
   ]
  },
  {
   "cell_type": "code",
   "execution_count": null,
   "id": "52a38fe3-009f-4406-b025-95a0a8b0f9d6",
   "metadata": {},
   "outputs": [],
   "source": [
    "ak_df = DataFrame({\"gb_id\":ak.randint(0, 5, 20, dtype=ak.int64),\n",
    "                   \"float64\":ak.randint(0, 1, 20, dtype=ak.float64),\n",
    "                  \"int64\":ak.randint(0, 10, 20, dtype=ak.int64),\n",
    "                    \"uint64\":ak.randint(0, 10, 20, dtype=ak.uint64),\n",
    "                   \"bigint\":ak.randint(0, 10, 20, dtype=ak.uint64)+ 2**200\n",
    "                  }\n",
    "                    )\n",
    "display(ak_df)"
   ]
  },
  {
   "cell_type": "code",
   "execution_count": null,
   "id": "755618d1-35a3-4a7d-a67e-206b8387b179",
   "metadata": {},
   "outputs": [],
   "source": [
    "pd_df = ak_df.to_pandas()\n",
    "display(pd_df)"
   ]
  },
  {
   "cell_type": "code",
   "execution_count": null,
   "id": "6f66b0be-c79b-4717-beff-f5df35c6de4b",
   "metadata": {},
   "outputs": [],
   "source": [
    "pd_df.groupby('gb_id').count()"
   ]
  },
  {
   "cell_type": "code",
   "execution_count": null,
   "id": "4cf133b8-d808-4140-a1e9-4ec5388e6466",
   "metadata": {},
   "outputs": [],
   "source": [
    "ak_df.groupby('gb_id').count(as_series=False)"
   ]
  },
  {
   "cell_type": "code",
   "execution_count": null,
   "id": "9185f387-a7c5-45bc-b78f-ad6692df0bc7",
   "metadata": {},
   "outputs": [],
   "source": [
    "pd_df.groupby('gb_id').count().drop([\"int64\",\"uint64\",\"bigint\"],axis=1).rename(columns={\"float64\": \"count\"}, errors=\"raise\")"
   ]
  },
  {
   "cell_type": "code",
   "execution_count": null,
   "id": "c8620388-84c5-4192-ba39-cbba8c8cfe64",
   "metadata": {},
   "outputs": [],
   "source": [
    "assert_frame_equal(ak_df.groupby('gb_id',as_index=True).count(as_series=False).to_pandas(retain_index=True), \n",
    "                   pd_df.groupby('gb_id').count().drop([\"int64\",\"uint64\",\"bigint\"],axis=1).rename(columns={\"float64\": \"count\"}, errors=\"raise\"))"
   ]
  },
  {
   "cell_type": "code",
   "execution_count": null,
   "id": "462909fd-ea8d-4e44-827a-07e434073214",
   "metadata": {},
   "outputs": [],
   "source": [
    "pd_df.groupby('gb_id').count().drop([\"int64\",\"uint64\",\"bigint\"],axis=1).rename(columns={\"float64\": \"count\"}, errors=\"raise\")"
   ]
  },
  {
   "cell_type": "code",
   "execution_count": null,
   "id": "3f75ac9d-5732-4b20-8269-040981371ed3",
   "metadata": {},
   "outputs": [],
   "source": [
    "ak_df.groupby('gb_id').count(as_series=False).to_pandas(retain_index=True)"
   ]
  },
  {
   "cell_type": "code",
   "execution_count": null,
   "id": "97157820-c7ad-42b8-ad5e-068ff11d5ffd",
   "metadata": {},
   "outputs": [],
   "source": [
    "## Example 3"
   ]
  },
  {
   "cell_type": "code",
   "execution_count": null,
   "id": "1678147f-46ce-4707-98d6-91e54c0c85d3",
   "metadata": {},
   "outputs": [],
   "source": [
    "ak_df = DataFrame({\"gb_id\":[\"A\",\"B\",\"A\",\"A\",\"B\"],\n",
    "                   \"nums1\":[1.0,2.0,float(\"nan\"),float(\"nan\"),float(\"nan\")],\n",
    "                   \"nums2\":[3.0,4.0,5.0,float(\"nan\"),float(\"nan\")],\n",
    "                  }\n",
    "                    )\n",
    "display(ak_df)"
   ]
  },
  {
   "cell_type": "code",
   "execution_count": null,
   "id": "01025f56-84ff-4dc4-87da-36b37c1fb0b6",
   "metadata": {},
   "outputs": [],
   "source": [
    "pd_df = ak_df.to_pandas()\n",
    "display(pd_df)"
   ]
  },
  {
   "cell_type": "code",
   "execution_count": null,
   "id": "19495538-9a4f-4b0e-b227-b18e31d1c93f",
   "metadata": {},
   "outputs": [],
   "source": [
    "pd_df.groupby('gb_id').count()"
   ]
  },
  {
   "cell_type": "code",
   "execution_count": null,
   "id": "b97eeb07-c278-4ec6-a808-4948d7538223",
   "metadata": {},
   "outputs": [],
   "source": [
    "ak_df.groupby('gb_id').count()"
   ]
  },
  {
   "cell_type": "code",
   "execution_count": null,
   "id": "2a02a716-c3e1-419e-848a-d1f1e368432e",
   "metadata": {},
   "outputs": [],
   "source": [
    "ak_df.groupby('gb_id').size()"
   ]
  },
  {
   "cell_type": "markdown",
   "id": "c1ab21a3-d174-475e-aa88-db500ddaa89a",
   "metadata": {},
   "source": [
    "# Code Inspection"
   ]
  },
  {
   "cell_type": "code",
   "execution_count": null,
   "id": "40b396d2-985b-43e4-b1fd-2aec9ee44770",
   "metadata": {},
   "outputs": [],
   "source": [
    "lines = inspect.getsource(pd.core.groupby.generic.DataFrameGroupBy.count)\n",
    "print(lines)"
   ]
  },
  {
   "cell_type": "code",
   "execution_count": null,
   "id": "c99fd879-157a-4f57-b2f7-1cc6b1f759ff",
   "metadata": {},
   "outputs": [],
   "source": [
    "lines = inspect.getsource(ak.dataframe.GroupBy.count)\n",
    "print(lines)"
   ]
  },
  {
   "cell_type": "markdown",
   "id": "fa92785e-57e4-4bc0-a25e-c148a49f9c0f",
   "metadata": {},
   "source": [
    "# More Examples"
   ]
  },
  {
   "cell_type": "code",
   "execution_count": null,
   "id": "5df90118-9f68-44e8-8b7c-8e4f3252fb35",
   "metadata": {},
   "outputs": [],
   "source": [
    "def build_ak_df_example2():\n",
    "    data = {\"key1\":[\"valuew\", \"valuex\", \"valuew\", \"valuex\"], \"key2\":[\"valueA\", \"valueB\", \"valueA\", \"valueB\"], \"key3\":[\"value1\", \"value2\", \"value3\", \"value4\"], \"count\":[34, 25, 11, 4], \"nums\":[1, 2, 5, 21]}\n",
    "    ak_df = ak.DataFrame({k:ak.array(v) for k, v in data.items()})\n",
    "    return ak_df\n",
    "\n",
    "\n",
    "def build_ak_df_example3():\n",
    "    ak_df = ak.DataFrame({\"gb_id\":ak.randint(0, 5, 20, dtype=ak.int64),\n",
    "               \"float64\":ak.randint(0, 1, 20, dtype=ak.float64),\n",
    "              \"int64\":ak.randint(0, 10, 20, dtype=ak.int64),\n",
    "                \"uint64\":ak.randint(0, 10, 20, dtype=ak.uint64),\n",
    "               \"bigint\":ak.randint(0, 10, 20, dtype=ak.uint64) + 2 ** 200\n",
    "              }\n",
    "                )\n",
    "    return ak_df"
   ]
  },
  {
   "cell_type": "code",
   "execution_count": null,
   "id": "6e49cc0a-367b-488b-a026-c49ab13106f4",
   "metadata": {},
   "outputs": [],
   "source": [
    "    def build_pd_df():\n",
    "        username = [\"Alice\", \"Bob\", \"Alice\", \"Carol\", \"Bob\", \"Alice\"]\n",
    "        userid = [111, 222, 111, 333, 222, 111]\n",
    "        item = [0, 0, 1, 1, 2, 0]\n",
    "        day = [5, 5, 6, 5, 6, 6]\n",
    "        amount = [0.5, 0.6, 1.1, 1.2, 4.3, 0.6]\n",
    "        bi = [2 ** 200, 2 ** 200 + 1, 2 ** 200 + 2, 2 ** 200 + 3, 2 ** 200 + 4, 2 ** 200 + 5]\n",
    "        ui = (np.arange(6).astype(ak.uint64)) + 2 ** 63\n",
    "        return pd.DataFrame(\n",
    "            {\n",
    "                \"userName\": username,\n",
    "                \"userID\": userid,\n",
    "                \"item\": item,\n",
    "                \"day\": day,\n",
    "                \"amount\": amount,\n",
    "                \"bi\": bi,\n",
    "                \"ui\": ui,\n",
    "            }\n",
    "        )"
   ]
  },
  {
   "cell_type": "code",
   "execution_count": null,
   "id": "1c33b8fe-4908-441e-a156-048453d625ce",
   "metadata": {},
   "outputs": [],
   "source": [
    "\n",
    "    def build_ak_df():\n",
    "        return ak.DataFrame(build_pd_df())"
   ]
  },
  {
   "cell_type": "code",
   "execution_count": null,
   "id": "af11be14-2745-4d5a-b43d-c7fc0647ddea",
   "metadata": {},
   "outputs": [],
   "source": []
  },
  {
   "cell_type": "code",
   "execution_count": null,
   "id": "9e49fac0-55b9-49dc-bb16-9d3fefc14474",
   "metadata": {},
   "outputs": [],
   "source": []
  },
  {
   "cell_type": "code",
   "execution_count": null,
   "id": "2e4b54e0-2d22-47b5-9170-44693364f004",
   "metadata": {},
   "outputs": [],
   "source": []
  }
 ],
 "metadata": {
  "kernelspec": {
   "display_name": "Python 3 (ipykernel)",
   "language": "python",
   "name": "python3"
  },
  "language_info": {
   "codemirror_mode": {
    "name": "ipython",
    "version": 3
   },
   "file_extension": ".py",
   "mimetype": "text/x-python",
   "name": "python",
   "nbconvert_exporter": "python",
   "pygments_lexer": "ipython3",
   "version": "3.10.13"
  }
 },
 "nbformat": 4,
 "nbformat_minor": 5
}
