{
 "cells": [
  {
   "cell_type": "code",
   "execution_count": null,
   "id": "da9fd267-7e56-4f93-a70c-dd2f0ba42207",
   "metadata": {},
   "outputs": [],
   "source": [
    "import arkouda as ak\n",
    "import numpy as np\n",
    "import pandas as pd\n",
    "import inspect\n",
    "\n",
    "from arkouda import Series, DataFrame\n",
    "from typing import List, Optional, Tuple, Union\n",
    "from pandas.testing import assert_frame_equal, assert_series_equal\n",
    "\n",
    "ak.connect()"
   ]
  },
  {
   "cell_type": "markdown",
   "id": "8f5e4dfe-637a-47d8-825e-a169162477c4",
   "metadata": {},
   "source": [
    "# Example 1"
   ]
  },
  {
   "cell_type": "code",
   "execution_count": null,
   "id": "cf549697-a7ad-482b-ad2b-c5025195bbeb",
   "metadata": {},
   "outputs": [],
   "source": [
    "pd_df = pd.DataFrame([(.2, .3), (.0, .6), (.6, .0), (.2, .1)],\n",
    "\n",
    "                  columns=['dogs', 'cats'])\n",
    "ak_df = ak.DataFrame(df)"
   ]
  },
  {
   "cell_type": "code",
   "execution_count": null,
   "id": "66fcf933-158c-4358-a579-4e7e16ad1d9d",
   "metadata": {},
   "outputs": [],
   "source": [
    "display(pd_df)\n",
    "display(ak_df)"
   ]
  },
  {
   "cell_type": "code",
   "execution_count": null,
   "id": "06e1c8c6-7b64-4711-96bd-80b773ffede0",
   "metadata": {},
   "outputs": [],
   "source": [
    "display(pd_df.corr())\n",
    "\n",
    "display(ak_df.corr())\n",
    "\n",
    "assert_frame_equal(pd_df.corr(),ak_df.corr().to_pandas())"
   ]
  },
  {
   "cell_type": "code",
   "execution_count": null,
   "id": "582b1dd6-a4dc-4960-b5c2-71aec0a89d0b",
   "metadata": {},
   "outputs": [],
   "source": []
  }
 ],
 "metadata": {
  "kernelspec": {
   "display_name": "Python 3 (ipykernel)",
   "language": "python",
   "name": "python3"
  },
  "language_info": {
   "codemirror_mode": {
    "name": "ipython",
    "version": 3
   },
   "file_extension": ".py",
   "mimetype": "text/x-python",
   "name": "python",
   "nbconvert_exporter": "python",
   "pygments_lexer": "ipython3",
   "version": "3.10.13"
  }
 },
 "nbformat": 4,
 "nbformat_minor": 5
}
