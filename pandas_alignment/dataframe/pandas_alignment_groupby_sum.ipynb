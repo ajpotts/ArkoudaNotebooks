{
 "cells": [
  {
   "cell_type": "code",
   "execution_count": null,
   "id": "da9fd267-7e56-4f93-a70c-dd2f0ba42207",
   "metadata": {},
   "outputs": [],
   "source": [
    "import arkouda as ak\n",
    "import numpy as np\n",
    "import pandas as pd\n",
    "import inspect\n",
    "\n",
    "from arkouda import Series, DataFrame\n",
    "from typing import List, Optional, Tuple, Union\n",
    "from pandas.testing import assert_frame_equal\n",
    "\n",
    "ak.connect()"
   ]
  },
  {
   "cell_type": "markdown",
   "id": "8f5e4dfe-637a-47d8-825e-a169162477c4",
   "metadata": {},
   "source": [
    "# Example 1"
   ]
  },
  {
   "cell_type": "code",
   "execution_count": null,
   "id": "bae55898-460e-4df0-be95-a17fd136452e",
   "metadata": {},
   "outputs": [],
   "source": [
    "data = {\"key1\":[\"valuew\",\"valuex\",\"valuew\",\"valuex\"],\"key2\":[\"valueA\",\"valueB\",\"valueA\",\"valueB\"],\"key3\":[\"value1\",\"value2\",\"value3\",\"value4\"],\"count\":[34,25,11,4],\"nums\":[1,2,5,21]}\n",
    "\n",
    "pd_df = pd.DataFrame(data)\n",
    "ak_df = ak.DataFrame({k:ak.array(v) for k,v in data.items()})\n",
    "#spark_df = spark.createDataFrame(pd_df)\n",
    "\n",
    "print(\"\\nPandas DF\\n\")\n",
    "display(pd_df)\n",
    "\n",
    "print(\"\\nArkouda DF\\n\")\n",
    "display(ak_df)\n"
   ]
  },
  {
   "cell_type": "code",
   "execution_count": null,
   "id": "06e1c8c6-7b64-4711-96bd-80b773ffede0",
   "metadata": {},
   "outputs": [],
   "source": [
    "pd_result1 = pd_df.groupby([\"key1\",\"key2\"], as_index=False).sum(\"count\")\n",
    "ak_result1 = ak_df.groupby([\"key1\",\"key2\"], as_index=False).sum(\"count\")\n",
    "\n",
    "print(\"\\nPandas Result\\n\")\n",
    "print(\"Type: \" + str(type(pd_result1)) + \"\\n\")\n",
    "display(pd_result1)\n",
    "\n",
    "print(\"\\nArkouda Result\\n\")\n",
    "print(\"Type: \" + str(type(ak_result1)) + \"\\n\")\n",
    "display(ak_result1)\n",
    "\n",
    "type(ak_result1) == ak.dataframe.DataFrame\n"
   ]
  },
  {
   "cell_type": "code",
   "execution_count": null,
   "id": "3ca4b1bd-0c05-4aa0-8e87-2780844b57e0",
   "metadata": {},
   "outputs": [],
   "source": [
    "pd_result2 = pd_df.groupby([\"key1\",\"key2\"], as_index=False).sum(\"nums\")\n",
    "ak_result2 = ak_df.groupby([\"key1\",\"key2\"], as_index=False).sum(\"nums\")\n",
    "\n",
    "print(\"\\nPandas Result\\n\")\n",
    "print(\"Type: \" + str(type(pd_result2)) + \"\\n\")\n",
    "display(pd_result2)\n",
    "\n",
    "print(\"\\nArkouda Result\\n\")\n",
    "print(\"Type: \" + str(type(ak_result2)) + \"\\n\")\n",
    "display(ak_result2)"
   ]
  },
  {
   "cell_type": "code",
   "execution_count": null,
   "id": "61672f34-4509-486a-8801-1f2bff015f66",
   "metadata": {},
   "outputs": [],
   "source": [
    "pd_result3 = pd_df.groupby([\"key1\",\"key2\"], as_index=False).sum()\n",
    "\n",
    "print(\"\\nPandas Result\\n\")\n",
    "print(\"Type: \" + str(type(pd_result3)) + \"\\n\")\n",
    "display(pd_result3)\n",
    "\n",
    "ak_result3 = ak_df.groupby([\"key1\",\"key2\"], as_index=False).sum()\n",
    "\n",
    "print(\"\\nArkouda Result\\n\")\n",
    "print(\"Type: \" + str(type(ak_result3)) + \"\\n\")\n",
    "display(ak_result3)"
   ]
  },
  {
   "cell_type": "markdown",
   "id": "3b752347-2e14-4a53-99f3-9bc005809418",
   "metadata": {},
   "source": [
    "# Example 2"
   ]
  },
  {
   "cell_type": "code",
   "execution_count": null,
   "id": "f99566c4-7654-4bce-9007-b84deafff236",
   "metadata": {},
   "outputs": [],
   "source": [
    "data2 = {\"key1\":[\"valuew\",\"valuex\",\"valuew\",\"valuex\"],\"key2\":[\"valueA\",\"valueB\",\"valueA\",\"valueB\"],\"count\":[34,25,11,4],\"nums\":[1,2,5,21]}\n",
    "\n",
    "pd_df2 = pd.DataFrame(data2)\n",
    "ak_df2 = ak.DataFrame({k:ak.array(v) for k,v in data2.items()})\n",
    "#spark_df = spark.createDataFrame(pd_df)\n",
    "\n",
    "print(\"\\nPandas DF\\n\")\n",
    "display(pd_df2)\n",
    "\n",
    "print(\"\\nArkouda DF\\n\")\n",
    "display(ak_df2)"
   ]
  },
  {
   "cell_type": "code",
   "execution_count": null,
   "id": "ae3dd583-c591-4ca6-88e9-814c82906174",
   "metadata": {},
   "outputs": [],
   "source": [
    "pd_result = pd_df2.groupby([\"key1\",\"key2\"]).sum()\n",
    "\n",
    "print(\"\\nPandas Result\\n\")\n",
    "print(\"Type: \" + str(type(pd_result)) + \"\\n\")\n",
    "display(pd_result)\n",
    "\n",
    "ak_result = ak_df2.groupby([\"key1\",\"key2\"]).sum()\n",
    "\n",
    "print(\"\\nArkouda Result\\n\")\n",
    "print(\"Type: \" + str(type(ak_result)) + \"\\n\")\n",
    "display(ak_result)"
   ]
  },
  {
   "cell_type": "markdown",
   "id": "2118d51b-fd63-42d6-ae6d-fb277ece9d51",
   "metadata": {},
   "source": [
    "# Example 3"
   ]
  },
  {
   "cell_type": "code",
   "execution_count": null,
   "id": "52a38fe3-009f-4406-b025-95a0a8b0f9d6",
   "metadata": {},
   "outputs": [],
   "source": [
    "ak_df = DataFrame({\"gb_id\":ak.randint(0, 5, 20, dtype=ak.int64),\n",
    "                   \"float64\":ak.randint(0, 1, 20, dtype=ak.float64),\n",
    "                  \"int64\":ak.randint(0, 10, 20, dtype=ak.int64),\n",
    "                    \"uint64\":ak.randint(0, 10, 20, dtype=ak.uint64),\n",
    "                   \"bigint\":ak.randint(0, 10, 20, dtype=ak.uint64)+ 2**200\n",
    "                  }\n",
    "                    )\n",
    "display(ak_df)"
   ]
  },
  {
   "cell_type": "code",
   "execution_count": null,
   "id": "755618d1-35a3-4a7d-a67e-206b8387b179",
   "metadata": {},
   "outputs": [],
   "source": [
    "pd_df = ak_df.to_pandas()\n",
    "display(pd_df)"
   ]
  },
  {
   "cell_type": "code",
   "execution_count": null,
   "id": "c8620388-84c5-4192-ba39-cbba8c8cfe64",
   "metadata": {},
   "outputs": [],
   "source": [
    "assert_frame_equal(ak_df.groupby('gb_id').sum().to_pandas(retain_index=True), pd_df.groupby('gb_id').sum())"
   ]
  },
  {
   "cell_type": "code",
   "execution_count": null,
   "id": "09757118-8723-497c-8533-2bc7ee26a5f2",
   "metadata": {},
   "outputs": [],
   "source": [
    "assert_frame_equal(ak_df.groupby(['gb_id']).sum().to_pandas(retain_index=True), pd_df.groupby(['gb_id']).sum())"
   ]
  },
  {
   "cell_type": "code",
   "execution_count": null,
   "id": "d0a70842-4b6a-49e0-8c36-2a7220e00df6",
   "metadata": {},
   "outputs": [],
   "source": [
    "assert set(ak_df.groupby('gb_id').sum().columns) == set(pd_df.groupby('gb_id').sum().columns)"
   ]
  },
  {
   "cell_type": "code",
   "execution_count": null,
   "id": "759c1778-fb2a-44c8-96fe-32e17a63fb4e",
   "metadata": {},
   "outputs": [],
   "source": [
    "pd_df.groupby(['gb_id']).sum()"
   ]
  },
  {
   "cell_type": "code",
   "execution_count": null,
   "id": "f803b396-34a0-462a-92de-768cc1a7dd68",
   "metadata": {},
   "outputs": [],
   "source": [
    "ak_df.groupby(['gb_id']).sum()"
   ]
  },
  {
   "cell_type": "markdown",
   "id": "c1ab21a3-d174-475e-aa88-db500ddaa89a",
   "metadata": {},
   "source": [
    "# Code Inspection"
   ]
  },
  {
   "cell_type": "code",
   "execution_count": null,
   "id": "40b396d2-985b-43e4-b1fd-2aec9ee44770",
   "metadata": {},
   "outputs": [],
   "source": [
    "lines = inspect.getsource(pd.core.groupby.generic.DataFrameGroupBy.sum)\n",
    "print(lines)"
   ]
  },
  {
   "cell_type": "code",
   "execution_count": null,
   "id": "c99fd879-157a-4f57-b2f7-1cc6b1f759ff",
   "metadata": {},
   "outputs": [],
   "source": [
    "lines = inspect.getsource(ak.dataframe.GroupBy.sum)\n",
    "print(lines)"
   ]
  },
  {
   "cell_type": "markdown",
   "id": "fa92785e-57e4-4bc0-a25e-c148a49f9c0f",
   "metadata": {},
   "source": [
    "# Working"
   ]
  },
  {
   "cell_type": "code",
   "execution_count": null,
   "id": "5df90118-9f68-44e8-8b7c-8e4f3252fb35",
   "metadata": {},
   "outputs": [],
   "source": [
    "def build_ak_df_example2():\n",
    "    data = {\"key1\":[\"valuew\", \"valuex\", \"valuew\", \"valuex\"], \"key2\":[\"valueA\", \"valueB\", \"valueA\", \"valueB\"], \"key3\":[\"value1\", \"value2\", \"value3\", \"value4\"], \"count\":[34, 25, 11, 4], \"nums\":[1, 2, 5, 21]}\n",
    "    ak_df = ak.DataFrame({k:ak.array(v) for k, v in data.items()})\n",
    "    return ak_df\n",
    "\n",
    "\n",
    "def build_ak_df_example3():\n",
    "    ak_df = ak.DataFrame({\"gb_id\":ak.randint(0, 5, 20, dtype=ak.int64),\n",
    "               \"float64\":ak.randint(0, 1, 20, dtype=ak.float64),\n",
    "              \"int64\":ak.randint(0, 10, 20, dtype=ak.int64),\n",
    "                \"uint64\":ak.randint(0, 10, 20, dtype=ak.uint64),\n",
    "               \"bigint\":ak.randint(0, 10, 20, dtype=ak.uint64) + 2 ** 200\n",
    "              }\n",
    "                )\n",
    "    return ak_df"
   ]
  }
 ],
 "metadata": {
  "kernelspec": {
   "display_name": "Python 3 (ipykernel)",
   "language": "python",
   "name": "python3"
  },
  "language_info": {
   "codemirror_mode": {
    "name": "ipython",
    "version": 3
   },
   "file_extension": ".py",
   "mimetype": "text/x-python",
   "name": "python",
   "nbconvert_exporter": "python",
   "pygments_lexer": "ipython3",
   "version": "3.10.13"
  }
 },
 "nbformat": 4,
 "nbformat_minor": 5
}
