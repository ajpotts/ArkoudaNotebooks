{
 "cells": [
  {
   "cell_type": "code",
   "execution_count": null,
   "id": "da9fd267-7e56-4f93-a70c-dd2f0ba42207",
   "metadata": {},
   "outputs": [],
   "source": [
    "import arkouda as ak\n",
    "import numpy as np\n",
    "import pandas as pd\n",
    "import inspect\n",
    "\n",
    "from arkouda import Series, DataFrame\n",
    "from typing import List, Optional, Tuple, Union\n",
    "from pandas.testing import assert_frame_equal, assert_series_equal\n",
    "\n",
    "ak.connect()"
   ]
  },
  {
   "cell_type": "markdown",
   "id": "8f5e4dfe-637a-47d8-825e-a169162477c4",
   "metadata": {},
   "source": [
    "# Example 1"
   ]
  },
  {
   "cell_type": "code",
   "execution_count": null,
   "id": "bae55898-460e-4df0-be95-a17fd136452e",
   "metadata": {},
   "outputs": [],
   "source": [
    "data = {\"key1\":[\"valuew\",\"valuex\",\"valuew\",\"valuex\"],\"key2\":[\"valueA\",\"valueB\",\"valueA\",\"valueB\"],\"key3\":[\"value1\",\"value2\",\"value3\",\"value4\"],\"count\":[34,25,11,4],\"nums\":[1,2,5,21]}\n",
    "\n",
    "pd_df = pd.DataFrame(data)\n",
    "ak_df = ak.DataFrame({k:ak.array(v) for k,v in data.items()})\n",
    "#spark_df = spark.createDataFrame(pd_df)\n",
    "\n",
    "print(\"\\nPandas DF\\n\")\n",
    "display(pd_df)\n",
    "\n",
    "print(\"\\nArkouda DF\\n\")\n",
    "display(ak_df)\n"
   ]
  },
  {
   "cell_type": "code",
   "execution_count": null,
   "id": "06e1c8c6-7b64-4711-96bd-80b773ffede0",
   "metadata": {},
   "outputs": [],
   "source": [
    "print(pd_df.columns)\n",
    "\n",
    "print(ak_df.columns)\n",
    "\n",
    "print(list(pd_df.columns))\n",
    "\n"
   ]
  },
  {
   "cell_type": "code",
   "execution_count": null,
   "id": "fbec4b5a-c33e-4be9-8ab4-2066e99f0152",
   "metadata": {},
   "outputs": [],
   "source": []
  }
 ],
 "metadata": {
  "kernelspec": {
   "display_name": "Python 3 (ipykernel)",
   "language": "python",
   "name": "python3"
  },
  "language_info": {
   "codemirror_mode": {
    "name": "ipython",
    "version": 3
   },
   "file_extension": ".py",
   "mimetype": "text/x-python",
   "name": "python",
   "nbconvert_exporter": "python",
   "pygments_lexer": "ipython3",
   "version": "3.10.13"
  }
 },
 "nbformat": 4,
 "nbformat_minor": 5
}
