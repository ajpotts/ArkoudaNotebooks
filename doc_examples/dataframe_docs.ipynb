{
 "cells": [
  {
   "cell_type": "code",
   "execution_count": null,
   "id": "da9fd267-7e56-4f93-a70c-dd2f0ba42207",
   "metadata": {},
   "outputs": [],
   "source": [
    "import arkouda as ak\n",
    "import numpy as np\n",
    "import pandas as pd\n",
    "\n",
    "\n",
    "from arkouda import Series, DataFrame, Index\n",
    "from typing import List, Optional, Tuple, Union\n",
    "from pandas.testing import assert_frame_equal, assert_series_equal\n",
    "\n",
    "ak.connect()"
   ]
  },
  {
   "cell_type": "code",
   "execution_count": null,
   "id": "c8f41f56-28a6-48d1-b033-838726f89cb8",
   "metadata": {},
   "outputs": [],
   "source": [
    "#  https://github.com/joaopalmeiro/pandas-sphinx/blob/main/pandas_sphinx/__init__.py\n",
    "\n",
    "def to_sphinx(df, show_index=True, number_rows=1):\n",
    "\n",
    "    if isinstance(df, ak.dataframe.DataFrame):\n",
    "        df = df.to_pandas()\n",
    "    \n",
    "    formatted_df = df.to_markdown(tablefmt=\"grid\", index=show_index)    \n",
    "    \n",
    "    return f\"{formatted_df}\"   "
   ]
  },
  {
   "cell_type": "markdown",
   "id": "678f4628-b897-4a1b-8613-3c99e02ff346",
   "metadata": {},
   "source": [
    "# dataframe.DataFrame.columns"
   ]
  },
  {
   "cell_type": "code",
   "execution_count": null,
   "id": "7d084a5a-718c-44c7-b150-2dff0952a031",
   "metadata": {},
   "outputs": [],
   "source": [
    "df = ak.DataFrame({'col1': [1, 2], 'col2': [3, 4]})\n",
    "df"
   ]
  },
  {
   "cell_type": "code",
   "execution_count": null,
   "id": "8111f3c2-22ea-4af4-9cca-f3af745df15b",
   "metadata": {},
   "outputs": [],
   "source": [
    "print(to_sphinx(df.to_pandas()))"
   ]
  },
  {
   "cell_type": "code",
   "execution_count": null,
   "id": "7f2c6093-796e-401c-94d0-7a0aac7bbccf",
   "metadata": {},
   "outputs": [],
   "source": [
    "df.columns"
   ]
  },
  {
   "cell_type": "markdown",
   "id": "f90085dd-70f7-46f1-835a-1ef7669d1ee0",
   "metadata": {},
   "source": [
    "# dataframe.DataFrame.index"
   ]
  },
  {
   "cell_type": "code",
   "execution_count": null,
   "id": "f4a57080-e590-4bb4-9578-ec0877e9768c",
   "metadata": {},
   "outputs": [],
   "source": []
  },
  {
   "cell_type": "code",
   "execution_count": null,
   "id": "61a512a9-c4b4-448a-9451-688f4ac99f34",
   "metadata": {},
   "outputs": [],
   "source": []
  },
  {
   "cell_type": "code",
   "execution_count": null,
   "id": "7895332a-8219-43e9-9fbe-196c9c0d13d9",
   "metadata": {},
   "outputs": [],
   "source": [
    "df = ak.DataFrame({'col1': [1, 2], 'col2': [3, 4]})\n",
    "df"
   ]
  },
  {
   "cell_type": "code",
   "execution_count": null,
   "id": "65ec3f12-ebc2-4f94-be02-f5078df44d06",
   "metadata": {},
   "outputs": [],
   "source": [
    "df.index"
   ]
  },
  {
   "cell_type": "markdown",
   "id": "dea9afa8-baf6-4966-b771-c4e1a65790d7",
   "metadata": {},
   "source": [
    "# dataframe.DataFrame.shape"
   ]
  },
  {
   "cell_type": "code",
   "execution_count": null,
   "id": "c8e8f34a-f311-4661-9cda-6f7676dd7081",
   "metadata": {},
   "outputs": [],
   "source": [
    "df = ak.DataFrame({'col1': [1, 2, 3], 'col2': [4, 5, 6]})\n",
    "df"
   ]
  },
  {
   "cell_type": "code",
   "execution_count": null,
   "id": "2448b878-ef0b-4019-b683-5d6c274c6fae",
   "metadata": {},
   "outputs": [],
   "source": [
    "print(to_sphinx(df.to_pandas()))"
   ]
  },
  {
   "cell_type": "code",
   "execution_count": null,
   "id": "d2239eef-5d19-4a33-9d23-e12d2f5e844e",
   "metadata": {},
   "outputs": [],
   "source": [
    "df.shape"
   ]
  },
  {
   "cell_type": "code",
   "execution_count": null,
   "id": "9beb0172-a599-4bca-8867-cd23f57e1c49",
   "metadata": {},
   "outputs": [],
   "source": [
    "type(df.shape)"
   ]
  },
  {
   "cell_type": "markdown",
   "id": "5c9690ff-3553-4bbc-a2c6-98f49ede9f66",
   "metadata": {},
   "source": [
    "# dataframe.DataFrame.empty"
   ]
  },
  {
   "cell_type": "code",
   "execution_count": null,
   "id": "e3ecd3c1-4784-4655-952a-cacee57c183c",
   "metadata": {},
   "outputs": [],
   "source": [
    "df = ak.DataFrame({})\n",
    "df"
   ]
  },
  {
   "cell_type": "code",
   "execution_count": null,
   "id": "59eb388c-973f-4bf7-8ea8-e111cbb502ff",
   "metadata": {},
   "outputs": [],
   "source": [
    "df.empty"
   ]
  },
  {
   "cell_type": "markdown",
   "id": "65edc645-01fd-42c9-bd75-8cfabb345fc1",
   "metadata": {},
   "source": [
    "# dataframe.DataFrame.dtypes"
   ]
  },
  {
   "cell_type": "code",
   "execution_count": null,
   "id": "35cb01d1-0c66-4832-b190-173eeacbe8c3",
   "metadata": {},
   "outputs": [],
   "source": [
    "df = ak.DataFrame({'col1': [1, 2], 'col2': [\"a\", \"b\"]})\n",
    "df"
   ]
  },
  {
   "cell_type": "code",
   "execution_count": null,
   "id": "280fabed-a3a3-4fb1-a2da-bb490ab676da",
   "metadata": {},
   "outputs": [],
   "source": [
    "print(to_sphinx(df.to_pandas()))"
   ]
  },
  {
   "cell_type": "code",
   "execution_count": null,
   "id": "383518fc-a984-4e28-a84b-1d7f379a5020",
   "metadata": {},
   "outputs": [],
   "source": [
    "df.dtypes"
   ]
  },
  {
   "cell_type": "code",
   "execution_count": null,
   "id": "ac81b1f6-2dff-49fa-a347-158e0f8cd3ab",
   "metadata": {},
   "outputs": [],
   "source": [
    "type(df.dtypes)"
   ]
  },
  {
   "cell_type": "code",
   "execution_count": null,
   "id": "662a7460-6088-47f0-9dc2-124d9a9ae711",
   "metadata": {},
   "outputs": [],
   "source": [
    "print(to_sphinx(pd.DataFrame(df.dtypes)))"
   ]
  },
  {
   "cell_type": "code",
   "execution_count": null,
   "id": "ab182dec-cb96-4810-80c9-fb91cdbc11e6",
   "metadata": {},
   "outputs": [],
   "source": [
    "pd.DataFrame(df.dtypes)"
   ]
  },
  {
   "cell_type": "code",
   "execution_count": null,
   "id": "5be4a46a-2c47-451c-80fe-357becc4e6bd",
   "metadata": {},
   "outputs": [],
   "source": [
    "df.dtypes"
   ]
  },
  {
   "cell_type": "markdown",
   "id": "bbc9f995-ee3b-4e80-aee5-10de600a77cb",
   "metadata": {},
   "source": [
    "# dataframe.DataFrame.info"
   ]
  },
  {
   "cell_type": "code",
   "execution_count": null,
   "id": "8d205a9d-c35a-4852-93bd-4dfeb7282861",
   "metadata": {},
   "outputs": [],
   "source": [
    "df = ak.DataFrame({'col1': [1, 2], 'col2': [\"a\", \"b\"]})\n",
    "df"
   ]
  },
  {
   "cell_type": "code",
   "execution_count": null,
   "id": "a95053d9-a8ab-41a5-8b0d-bd0ca3c3076a",
   "metadata": {},
   "outputs": [],
   "source": [
    "df.info"
   ]
  },
  {
   "cell_type": "code",
   "execution_count": null,
   "id": "45358f11-c37c-46a3-ae68-8a019b2b612d",
   "metadata": {},
   "outputs": [],
   "source": [
    "df = ak.DataFrame({'col1': [1, 2], 'col2': [\"a\", \"b\"]})\n",
    "df"
   ]
  },
  {
   "cell_type": "code",
   "execution_count": null,
   "id": "85ed1f72-f56e-4b35-b908-fe3824e27166",
   "metadata": {},
   "outputs": [],
   "source": [
    "df.to_pandas()"
   ]
  },
  {
   "cell_type": "code",
   "execution_count": null,
   "id": "ecb1aa8d-2a95-44c3-bd85-81eb2a0c252c",
   "metadata": {},
   "outputs": [],
   "source": [
    "print(to_sphinx(df.to_pandas()))"
   ]
  },
  {
   "cell_type": "code",
   "execution_count": null,
   "id": "8f28d525-c722-483a-97d6-ce78f58f8040",
   "metadata": {},
   "outputs": [],
   "source": [
    "df.info"
   ]
  },
  {
   "cell_type": "markdown",
   "id": "c8a51ede-2f63-4483-8ee0-9005400b3c42",
   "metadata": {},
   "source": [
    "# dataframe.DataFrame.size"
   ]
  },
  {
   "cell_type": "code",
   "execution_count": null,
   "id": "f781d39b-a138-4669-b070-bf29e0a2e2d2",
   "metadata": {},
   "outputs": [],
   "source": [
    "df = ak.DataFrame({'col1': [1, 2, 3], 'col2': [4, 5, 6]})\n",
    "df"
   ]
  },
  {
   "cell_type": "code",
   "execution_count": null,
   "id": "e65daa41-362c-43c9-8a8b-6f9a47860405",
   "metadata": {},
   "outputs": [],
   "source": [
    "df.size"
   ]
  },
  {
   "cell_type": "code",
   "execution_count": null,
   "id": "cfe4c7a0-e8da-48b1-b486-eca96bd6d9c0",
   "metadata": {},
   "outputs": [],
   "source": [
    "df.to_pandas().size"
   ]
  },
  {
   "cell_type": "markdown",
   "id": "e5bd97b0-b28f-4358-80c5-5220c641c48d",
   "metadata": {},
   "source": [
    "# dataframe.GroupBy()"
   ]
  },
  {
   "cell_type": "code",
   "execution_count": null,
   "id": "644af778-4e9e-47d2-b4f7-d5cbca7f59a4",
   "metadata": {},
   "outputs": [],
   "source": [
    "df = ak.DataFrame({'col1': [1.0, 1.0, 2.0, np.nan], 'col2': [4, 5, 6, 7]})"
   ]
  },
  {
   "cell_type": "code",
   "execution_count": null,
   "id": "31ec3de2-a0b8-4bc3-a901-a2a312d7e757",
   "metadata": {},
   "outputs": [],
   "source": [
    "print(to_sphinx(df.to_pandas()))"
   ]
  },
  {
   "cell_type": "code",
   "execution_count": null,
   "id": "2a334555-9689-4b51-a4b2-622779d2a0c1",
   "metadata": {},
   "outputs": [],
   "source": [
    "df.GroupBy(\"col1\")"
   ]
  },
  {
   "cell_type": "code",
   "execution_count": null,
   "id": "10565cdf-19ed-4812-ae85-ae5059353825",
   "metadata": {},
   "outputs": [],
   "source": [
    "df.GroupBy(\"col1\").size()"
   ]
  },
  {
   "cell_type": "code",
   "execution_count": null,
   "id": "6704a466-d41c-48ad-88bd-debeb197ce82",
   "metadata": {},
   "outputs": [],
   "source": [
    "df.GroupBy(\"col1\",use_series=True)"
   ]
  },
  {
   "cell_type": "code",
   "execution_count": null,
   "id": "c929b129-7c34-4aed-ba96-ab6912b91524",
   "metadata": {},
   "outputs": [],
   "source": [
    "df.GroupBy(\"col1\",use_series=True).size()"
   ]
  },
  {
   "cell_type": "code",
   "execution_count": null,
   "id": "73ac5a6e-faae-4521-9083-3c84070cd5af",
   "metadata": {},
   "outputs": [],
   "source": [
    "df.GroupBy(\"col1\",use_series=True, as_index = False).size()"
   ]
  },
  {
   "cell_type": "code",
   "execution_count": null,
   "id": "479e0fe1-2814-448e-99b7-ba4bddfbb474",
   "metadata": {},
   "outputs": [],
   "source": [
    "print(to_sphinx(df.GroupBy(\"col1\",use_series=True, as_index = False).size().to_pandas()))"
   ]
  },
  {
   "cell_type": "markdown",
   "id": "5b1c1a98-aa34-4ffc-9075-1c48bba5b3b1",
   "metadata": {},
   "source": [
    "# DataFrame.append()"
   ]
  },
  {
   "cell_type": "code",
   "execution_count": null,
   "id": "42ffe757-99a9-4a3a-ac09-75e1f664ca7f",
   "metadata": {},
   "outputs": [],
   "source": [
    "df1 = ak.DataFrame({'col1': [1, 2], 'col2': [3, 4]})"
   ]
  },
  {
   "cell_type": "code",
   "execution_count": null,
   "id": "bdeda005-998b-491c-a689-21903826cf97",
   "metadata": {},
   "outputs": [],
   "source": [
    "print(to_sphinx(df1.to_pandas()))"
   ]
  },
  {
   "cell_type": "code",
   "execution_count": null,
   "id": "b4c238aa-92ef-4a18-aa5e-c6eea87cb423",
   "metadata": {},
   "outputs": [],
   "source": [
    "df2 = ak.DataFrame({'col1': [3], 'col2': [5]})"
   ]
  },
  {
   "cell_type": "code",
   "execution_count": null,
   "id": "329a04d3-a60a-4407-b4a4-3495b0a972d2",
   "metadata": {},
   "outputs": [],
   "source": [
    "print(to_sphinx(df2.to_pandas()))"
   ]
  },
  {
   "cell_type": "code",
   "execution_count": null,
   "id": "5f492601-86af-48c7-90f6-07628e23cdbc",
   "metadata": {},
   "outputs": [],
   "source": [
    "df1.append(df2)"
   ]
  },
  {
   "cell_type": "code",
   "execution_count": null,
   "id": "7bda0a63-6f46-4349-ae53-0ce798d487e7",
   "metadata": {},
   "outputs": [],
   "source": [
    "df1"
   ]
  },
  {
   "cell_type": "code",
   "execution_count": null,
   "id": "ddd8a222-12d8-4b35-815a-854c79224c53",
   "metadata": {},
   "outputs": [],
   "source": [
    "print(to_sphinx(df1.to_pandas()))"
   ]
  },
  {
   "cell_type": "markdown",
   "id": "88acb238-0bc6-48b1-aa50-1ba9d370f1b4",
   "metadata": {},
   "source": [
    "# daframe.DataFrame.apply_permutation()"
   ]
  },
  {
   "cell_type": "code",
   "execution_count": null,
   "id": "22158cef-2a60-4943-94ca-a3d3985fb472",
   "metadata": {},
   "outputs": [],
   "source": [
    "df = ak.DataFrame({'col1': [1, 2, 3], 'col2': [4, 5, 6]})"
   ]
  },
  {
   "cell_type": "code",
   "execution_count": null,
   "id": "0983d93f-b89d-420d-8371-c3a24bba8062",
   "metadata": {},
   "outputs": [],
   "source": [
    "print(to_sphinx(df.to_pandas()))"
   ]
  },
  {
   "cell_type": "code",
   "execution_count": null,
   "id": "79035967-1c85-4a3c-acde-61b9ca467c07",
   "metadata": {},
   "outputs": [],
   "source": [
    "perm_arry = ak.array([0, 2, 1])"
   ]
  },
  {
   "cell_type": "code",
   "execution_count": null,
   "id": "e6bb92b7-d39d-463e-b689-591a405c2d77",
   "metadata": {},
   "outputs": [],
   "source": [
    "df.apply_permutation(perm_arry)"
   ]
  },
  {
   "cell_type": "code",
   "execution_count": null,
   "id": "aa4846bd-5aca-406d-91f7-6289fcd88ad2",
   "metadata": {},
   "outputs": [],
   "source": [
    "display(df)"
   ]
  },
  {
   "cell_type": "code",
   "execution_count": null,
   "id": "067d777b-342b-4cb8-9916-b485b413b1c9",
   "metadata": {},
   "outputs": [],
   "source": [
    "print(to_sphinx(df.to_pandas()))"
   ]
  },
  {
   "cell_type": "code",
   "execution_count": null,
   "id": "5e5a1f39-6fc8-49f8-8f39-6cbe17093086",
   "metadata": {},
   "outputs": [],
   "source": [
    "df['col1']"
   ]
  },
  {
   "cell_type": "markdown",
   "id": "bb53c925-61e5-4a59-9b6d-6016b589b7cd",
   "metadata": {},
   "source": [
    "# dataframe.DataFrame.attach() and dataframe.DataFrame.register()"
   ]
  },
  {
   "cell_type": "code",
   "execution_count": null,
   "id": "d4a69766-1c9c-404a-b07b-ecb30850cbd1",
   "metadata": {},
   "outputs": [],
   "source": [
    "df = ak.DataFrame({'col1': [1, 2, 3], 'col2': [4, 5, 6]})"
   ]
  },
  {
   "cell_type": "code",
   "execution_count": null,
   "id": "e87e59d4-f455-4a8c-bdda-03e3acff47e2",
   "metadata": {},
   "outputs": [],
   "source": [
    "df.register(\"my_table_name\")"
   ]
  },
  {
   "cell_type": "code",
   "execution_count": null,
   "id": "97ef25c4-1adb-4ccb-9a34-0f7a85ec4503",
   "metadata": {},
   "outputs": [],
   "source": [
    "df.attach(\"my_table_name\")"
   ]
  },
  {
   "cell_type": "code",
   "execution_count": null,
   "id": "f0c29dc4-5652-4a27-9263-5ccb459ce847",
   "metadata": {},
   "outputs": [],
   "source": [
    "df.is_registered()"
   ]
  },
  {
   "cell_type": "code",
   "execution_count": null,
   "id": "e141a276-3bcb-4882-b254-303b96f60fdb",
   "metadata": {},
   "outputs": [],
   "source": [
    "df.unregister()"
   ]
  },
  {
   "cell_type": "code",
   "execution_count": null,
   "id": "8522c38d-a455-43cf-a421-27d532e92e16",
   "metadata": {},
   "outputs": [],
   "source": [
    "df.is_registered()"
   ]
  },
  {
   "cell_type": "markdown",
   "id": "b11954e0-bef6-4cd1-b85a-1e859a44330f",
   "metadata": {},
   "source": [
    "# dataframe.DataFrame.unregister_dataframe_by_name"
   ]
  },
  {
   "cell_type": "code",
   "execution_count": null,
   "id": "fd951a72-de5d-4e1f-b769-9e9bb16acad3",
   "metadata": {},
   "outputs": [],
   "source": [
    "df = ak.DataFrame({'col1': [1, 2, 3], 'col2': [4, 5, 6]})"
   ]
  },
  {
   "cell_type": "code",
   "execution_count": null,
   "id": "11b25f9d-fad1-48d2-9a07-e726e61c3030",
   "metadata": {},
   "outputs": [],
   "source": [
    "df.register(\"my_table_name\")"
   ]
  },
  {
   "cell_type": "code",
   "execution_count": null,
   "id": "4a9e371c-58d4-445a-ac6f-75dd14737ca2",
   "metadata": {},
   "outputs": [],
   "source": [
    "df.attach(\"my_table_name\")"
   ]
  },
  {
   "cell_type": "code",
   "execution_count": null,
   "id": "b129eb27-19c8-4f5d-8b89-7524d7005267",
   "metadata": {},
   "outputs": [],
   "source": [
    "df.is_registered()"
   ]
  },
  {
   "cell_type": "code",
   "execution_count": null,
   "id": "392ccc64-e04e-4dd2-8fed-ff00e313ec2c",
   "metadata": {},
   "outputs": [],
   "source": [
    "df.unregister_dataframe_by_name(\"my_table_name\")"
   ]
  },
  {
   "cell_type": "code",
   "execution_count": null,
   "id": "acfbe5c7-3407-4d58-aa5f-88eea30dbf77",
   "metadata": {},
   "outputs": [],
   "source": [
    "df.is_registered()"
   ]
  },
  {
   "cell_type": "markdown",
   "id": "7d741f31-6746-4496-acca-9c2b10aa28e0",
   "metadata": {},
   "source": [
    "# dataframe.DataFrame.argsort"
   ]
  },
  {
   "cell_type": "code",
   "execution_count": null,
   "id": "1a3ee310-841c-4061-91aa-7a5f878c1bd7",
   "metadata": {},
   "outputs": [],
   "source": [
    "df = ak.DataFrame({'col1': [1.1, 3.1, 2.1], 'col2': [6, 5, 4]})"
   ]
  },
  {
   "cell_type": "code",
   "execution_count": null,
   "id": "8f428507-1ea2-433b-b41e-41823250f9ba",
   "metadata": {},
   "outputs": [],
   "source": [
    "display(df)"
   ]
  },
  {
   "cell_type": "code",
   "execution_count": null,
   "id": "30a44646-3200-4e4f-a3c9-3e9f84d1ec03",
   "metadata": {},
   "outputs": [],
   "source": [
    "print(to_sphinx(df))"
   ]
  },
  {
   "cell_type": "code",
   "execution_count": null,
   "id": "7ad3765b-9afc-4b85-b675-2e98ef428eae",
   "metadata": {},
   "outputs": [],
   "source": [
    "df.argsort('col1')"
   ]
  },
  {
   "cell_type": "code",
   "execution_count": null,
   "id": "dd57c647-61b7-48ed-8445-16bb4f00aa23",
   "metadata": {},
   "outputs": [],
   "source": [
    "sorted_df1 = df[df.argsort('col1')]"
   ]
  },
  {
   "cell_type": "code",
   "execution_count": null,
   "id": "5cbed940-235c-4253-84ec-c28e3a6ede0e",
   "metadata": {},
   "outputs": [],
   "source": [
    "display(sorted_df1)"
   ]
  },
  {
   "cell_type": "code",
   "execution_count": null,
   "id": "7a8070c6-964f-4bbf-b73c-ec50360ef76f",
   "metadata": {},
   "outputs": [],
   "source": [
    "print(to_sphinx(sorted_df1))"
   ]
  },
  {
   "cell_type": "code",
   "execution_count": null,
   "id": "0fac168e-8ce2-4a36-91ea-b441b0f9da37",
   "metadata": {},
   "outputs": [],
   "source": [
    "df.argsort('col2')"
   ]
  },
  {
   "cell_type": "code",
   "execution_count": null,
   "id": "f4000ee3-e315-460f-be05-57013915cbdd",
   "metadata": {},
   "outputs": [],
   "source": [
    "sorted_df2 = df[df.argsort('col2')]"
   ]
  },
  {
   "cell_type": "code",
   "execution_count": null,
   "id": "b2c4e001-a725-4f95-a5b6-d70f4efcd708",
   "metadata": {},
   "outputs": [],
   "source": [
    "display(sorted_df2)"
   ]
  },
  {
   "cell_type": "code",
   "execution_count": null,
   "id": "309664b7-2929-49e6-b728-7ec1fd51bf47",
   "metadata": {},
   "outputs": [],
   "source": [
    "print(to_sphinx(sorted_df2))"
   ]
  },
  {
   "cell_type": "markdown",
   "id": "72543475-d853-4dd5-b872-67b1d7fd11c7",
   "metadata": {},
   "source": [
    "# dataframe.DataFrame.coargsort"
   ]
  },
  {
   "cell_type": "code",
   "execution_count": null,
   "id": "af6214a0-265b-49b0-87a8-ae7d4cbe9c2c",
   "metadata": {},
   "outputs": [],
   "source": [
    "df = ak.DataFrame({'col1': [2, 2, 1], 'col2': [3, 4, 3], 'col3':[5, 6, 7]})"
   ]
  },
  {
   "cell_type": "code",
   "execution_count": null,
   "id": "a24b92b4-8daf-4f8d-9dff-6c5dbc2aa923",
   "metadata": {},
   "outputs": [],
   "source": [
    "display(df)"
   ]
  },
  {
   "cell_type": "code",
   "execution_count": null,
   "id": "4617ac47-32c1-43ec-91d5-b4889bd31862",
   "metadata": {},
   "outputs": [],
   "source": [
    "print(to_sphinx(df))"
   ]
  },
  {
   "cell_type": "code",
   "execution_count": null,
   "id": "ff9986ee-3542-44ac-941e-58ef09a8358b",
   "metadata": {},
   "outputs": [],
   "source": [
    "df.coargsort(['col1', 'col2'])"
   ]
  },
  {
   "cell_type": "code",
   "execution_count": null,
   "id": "822eb6de-6a6d-40cc-bc00-476dcbbc7b90",
   "metadata": {},
   "outputs": [],
   "source": [
    "sorted_df2 = df[df.coargsort(['col1', 'col2'])]"
   ]
  },
  {
   "cell_type": "code",
   "execution_count": null,
   "id": "04f61787-ed70-4936-bea8-90b1f1fc73ae",
   "metadata": {},
   "outputs": [],
   "source": [
    "display(sorted_df2)"
   ]
  },
  {
   "cell_type": "code",
   "execution_count": null,
   "id": "b896e16b-65ba-4c82-b538-e78245e66698",
   "metadata": {},
   "outputs": [],
   "source": [
    "print(to_sphinx(sorted_df1))"
   ]
  },
  {
   "cell_type": "markdown",
   "id": "fa2fb808-0006-483a-99d1-c4e82fa29df1",
   "metadata": {},
   "source": [
    "# DataFrame.sort_index()"
   ]
  },
  {
   "cell_type": "code",
   "execution_count": null,
   "id": "4205b890-472c-40ed-9dd5-3620d29e9427",
   "metadata": {},
   "outputs": [],
   "source": [
    "df = ak.DataFrame({'col1': [1.1, 3.1, 2.1], 'col2': [6, 5, 4]}, index = Index(ak.array([2,0,1]), name=\"idx\"))"
   ]
  },
  {
   "cell_type": "code",
   "execution_count": null,
   "id": "61422401-9b71-4680-a99c-7634247ec683",
   "metadata": {},
   "outputs": [],
   "source": [
    "display(df)"
   ]
  },
  {
   "cell_type": "code",
   "execution_count": null,
   "id": "940826a3-254d-4533-bce1-4f8fb8d2993d",
   "metadata": {},
   "outputs": [],
   "source": [
    "print(to_sphinx(df))"
   ]
  },
  {
   "cell_type": "code",
   "execution_count": null,
   "id": "bb8e7eeb-a100-4117-904a-6d82caae6dd5",
   "metadata": {},
   "outputs": [],
   "source": [
    "df.sort_index()"
   ]
  },
  {
   "cell_type": "code",
   "execution_count": null,
   "id": "4932a318-32d1-4bfe-805a-00dc37e60e46",
   "metadata": {},
   "outputs": [],
   "source": [
    "print(to_sphinx(df.sort_index()))"
   ]
  },
  {
   "cell_type": "markdown",
   "id": "8c186239-ae4d-4f14-bd68-ec0fa3211fec",
   "metadata": {},
   "source": [
    "# DataFrame.sort_values()"
   ]
  },
  {
   "cell_type": "code",
   "execution_count": null,
   "id": "0750f027-3e8d-4565-970b-9295bccdc85e",
   "metadata": {},
   "outputs": [],
   "source": [
    "df = ak.DataFrame({'col1': [2, 2, 1], 'col2': [3, 4, 3], 'col3':[5, 6, 7]})"
   ]
  },
  {
   "cell_type": "code",
   "execution_count": null,
   "id": "8bee1aed-225b-4028-b5c6-7958ce12e018",
   "metadata": {},
   "outputs": [],
   "source": [
    "display(df)"
   ]
  },
  {
   "cell_type": "code",
   "execution_count": null,
   "id": "d7342b15-4f53-4019-a80b-cf155c7dd4bc",
   "metadata": {},
   "outputs": [],
   "source": [
    "print(to_sphinx(df))"
   ]
  },
  {
   "cell_type": "code",
   "execution_count": null,
   "id": "7270bcd9-e46b-4858-a5bd-63d477579f1b",
   "metadata": {},
   "outputs": [],
   "source": [
    "df.sort_values()"
   ]
  },
  {
   "cell_type": "code",
   "execution_count": null,
   "id": "239bafe3-4bdd-490e-b08b-b40b952ba8eb",
   "metadata": {},
   "outputs": [],
   "source": [
    "print(to_sphinx(df.sort_values()))"
   ]
  },
  {
   "cell_type": "code",
   "execution_count": null,
   "id": "7ddc7be2-0e0a-4d19-bff1-2c3b481a5c94",
   "metadata": {},
   "outputs": [],
   "source": [
    "df.sort_values(\"col3\")"
   ]
  },
  {
   "cell_type": "code",
   "execution_count": null,
   "id": "7bfae91b-fec5-4945-8c54-e41aa526d809",
   "metadata": {},
   "outputs": [],
   "source": [
    "print(to_sphinx(df.sort_values(\"col3\")))"
   ]
  },
  {
   "cell_type": "code",
   "execution_count": null,
   "id": "67e281b4-546e-4304-8ca9-e9c07d6fd406",
   "metadata": {},
   "outputs": [],
   "source": [
    "df.sort_values(by=[\"col1\",\"col2\"])"
   ]
  },
  {
   "cell_type": "code",
   "execution_count": null,
   "id": "82c9ff27-ef8a-471e-8a83-0468587467b9",
   "metadata": {},
   "outputs": [],
   "source": [
    "print(to_sphinx(df.sort_values(by=[\"col1\",\"col2\"])))"
   ]
  },
  {
   "cell_type": "markdown",
   "id": "82eb927a-71bd-47bb-94ac-d9d3b5da993d",
   "metadata": {},
   "source": [
    "# DataFrame.concat()"
   ]
  },
  {
   "cell_type": "code",
   "execution_count": null,
   "id": "dfdf5d5c-b2af-42fe-9219-acffc3adc2c3",
   "metadata": {},
   "outputs": [],
   "source": [
    "df1 = ak.DataFrame({'col1': [1, 2], 'col2': [3, 4]})"
   ]
  },
  {
   "cell_type": "code",
   "execution_count": null,
   "id": "f74359a9-b348-4457-b9d4-f8901ac5ae8e",
   "metadata": {},
   "outputs": [],
   "source": [
    "display(df1)"
   ]
  },
  {
   "cell_type": "code",
   "execution_count": null,
   "id": "35ec0521-560e-44f4-a783-0e36ab45e1a4",
   "metadata": {},
   "outputs": [],
   "source": [
    "df2 = ak.DataFrame({'col1': [3], 'col2': [5]})"
   ]
  },
  {
   "cell_type": "code",
   "execution_count": null,
   "id": "9ce7e064-523a-4477-b719-cad693b90ace",
   "metadata": {},
   "outputs": [],
   "source": [
    "display(df2)"
   ]
  },
  {
   "cell_type": "code",
   "execution_count": null,
   "id": "050ace72-1321-4a64-99be-b52e7c251387",
   "metadata": {},
   "outputs": [],
   "source": [
    "#df1.append(df2)"
   ]
  },
  {
   "cell_type": "code",
   "execution_count": null,
   "id": "c2338c83-48eb-4cd1-aa43-32c2bbc62e5b",
   "metadata": {},
   "outputs": [],
   "source": [
    "df1.concat([df2])"
   ]
  },
  {
   "cell_type": "code",
   "execution_count": null,
   "id": "8ed2261e-89b9-4803-8096-3da74b613f71",
   "metadata": {},
   "outputs": [],
   "source": [
    "print(to_sphinx(df1.concat([df2])))"
   ]
  },
  {
   "cell_type": "code",
   "execution_count": null,
   "id": "083ec49c-8b34-4486-8be4-89d4a55a388e",
   "metadata": {},
   "outputs": [],
   "source": []
  },
  {
   "cell_type": "code",
   "execution_count": null,
   "id": "7258bc93-24ad-4765-9d20-37a8f5fb89c1",
   "metadata": {},
   "outputs": [],
   "source": [
    "pd_df1 = pd.DataFrame({'col1': [1, 2], 'col2': [3, 4]})"
   ]
  },
  {
   "cell_type": "code",
   "execution_count": null,
   "id": "e52c9d95-6157-4043-9c95-f2f64e169df3",
   "metadata": {},
   "outputs": [],
   "source": [
    "display(pd_df1)"
   ]
  },
  {
   "cell_type": "code",
   "execution_count": null,
   "id": "da287228-2ce0-465f-a0fa-471b7096b4cd",
   "metadata": {},
   "outputs": [],
   "source": [
    "pd_df2 = pd.DataFrame({'col1': [3], 'col2': [5]})"
   ]
  },
  {
   "cell_type": "code",
   "execution_count": null,
   "id": "404409c1-37d1-443a-bf6a-59f900e3bd82",
   "metadata": {},
   "outputs": [],
   "source": [
    "pd.concat([pd_df1, pd_df2])"
   ]
  },
  {
   "cell_type": "markdown",
   "id": "7bac676c-ef14-4a2e-8e80-cd86a768a04b",
   "metadata": {},
   "source": [
    "# DataFrame.copy()"
   ]
  },
  {
   "cell_type": "code",
   "execution_count": null,
   "id": "c89785d6-7bb1-4921-b3d6-49d23e812513",
   "metadata": {},
   "outputs": [],
   "source": [
    "df = ak.DataFrame({'col1': [1, 2], 'col2': [3, 4]})"
   ]
  },
  {
   "cell_type": "code",
   "execution_count": null,
   "id": "897c1361-d521-4f0d-b0d0-d42e0f3caf6e",
   "metadata": {},
   "outputs": [],
   "source": [
    "display(df)"
   ]
  },
  {
   "cell_type": "code",
   "execution_count": null,
   "id": "c71fbd18-f871-4e6d-9772-53783a924141",
   "metadata": {},
   "outputs": [],
   "source": [
    "print(to_sphinx(df))"
   ]
  },
  {
   "cell_type": "code",
   "execution_count": null,
   "id": "db256df2-a727-477b-8e0b-3b22eb2e4752",
   "metadata": {},
   "outputs": [],
   "source": [
    "df_deep = df.copy(deep=True)"
   ]
  },
  {
   "cell_type": "code",
   "execution_count": null,
   "id": "5accad58-d430-4869-9f02-1e3d05130b19",
   "metadata": {},
   "outputs": [],
   "source": [
    "df_deep['col1'] +=1"
   ]
  },
  {
   "cell_type": "code",
   "execution_count": null,
   "id": "7674dd70-1690-45f3-8037-50a6f0c70ec1",
   "metadata": {},
   "outputs": [],
   "source": [
    "display(df)"
   ]
  },
  {
   "cell_type": "code",
   "execution_count": null,
   "id": "7d608bb3-2ddc-439e-b8c4-52a76a671757",
   "metadata": {},
   "outputs": [],
   "source": [
    "print(to_sphinx(df))"
   ]
  },
  {
   "cell_type": "code",
   "execution_count": null,
   "id": "c378cb50-8544-4809-9e11-f2e1217ec88a",
   "metadata": {},
   "outputs": [],
   "source": [
    "df_shallow = df.copy(deep=False)"
   ]
  },
  {
   "cell_type": "code",
   "execution_count": null,
   "id": "bb204ad6-57cd-4027-82a7-4e6f717ea038",
   "metadata": {},
   "outputs": [],
   "source": [
    "df_shallow['col1'] +=1"
   ]
  },
  {
   "cell_type": "code",
   "execution_count": null,
   "id": "100ed248-c02a-45ae-9e55-3b9f23e1e042",
   "metadata": {},
   "outputs": [],
   "source": [
    "display(df)"
   ]
  },
  {
   "cell_type": "code",
   "execution_count": null,
   "id": "248c1a95-2ecb-4057-a19f-1c90b39b3267",
   "metadata": {},
   "outputs": [],
   "source": [
    "print(to_sphinx(df))"
   ]
  },
  {
   "cell_type": "markdown",
   "id": "8a83b689-e936-4f30-8aff-409298835398",
   "metadata": {},
   "source": [
    "# DataFrame.drop()"
   ]
  },
  {
   "cell_type": "code",
   "execution_count": null,
   "id": "852b9745-030a-422f-89dc-d6391c29fdcb",
   "metadata": {},
   "outputs": [],
   "source": [
    "df = ak.DataFrame({'col1': [1, 2], 'col2': [3, 4]})"
   ]
  },
  {
   "cell_type": "code",
   "execution_count": null,
   "id": "3dee4b28-680f-4089-85f8-c2c9fbade9e7",
   "metadata": {},
   "outputs": [],
   "source": [
    "display(df)"
   ]
  },
  {
   "cell_type": "code",
   "execution_count": null,
   "id": "84d2854c-5974-42ec-b306-bee2549e32eb",
   "metadata": {},
   "outputs": [],
   "source": [
    "print(to_sphinx(df))"
   ]
  },
  {
   "cell_type": "code",
   "execution_count": null,
   "id": "ddf3d57a-a308-4757-aa70-fbf1375a1b98",
   "metadata": {},
   "outputs": [],
   "source": [
    "df2 = df.drop('col1', axis = 1)"
   ]
  },
  {
   "cell_type": "code",
   "execution_count": null,
   "id": "5673112c-7be0-47f2-9bd4-2dd89dae5148",
   "metadata": {},
   "outputs": [],
   "source": [
    "display(df2)"
   ]
  },
  {
   "cell_type": "code",
   "execution_count": null,
   "id": "87a5c690-d1e8-4e62-94ff-8b0021de371c",
   "metadata": {},
   "outputs": [],
   "source": [
    "print(to_sphinx(df2))"
   ]
  },
  {
   "cell_type": "markdown",
   "id": "8334d5d2-0f79-45a1-84e4-33aa02911479",
   "metadata": {},
   "source": [
    "# DataFrame.corr()"
   ]
  },
  {
   "cell_type": "code",
   "execution_count": null,
   "id": "1d3877dd-9b3b-466a-a16e-6373f912eeea",
   "metadata": {},
   "outputs": [],
   "source": [
    "df = ak.DataFrame({'col1': [1, 2], 'col2': [-1, -2]})"
   ]
  },
  {
   "cell_type": "code",
   "execution_count": null,
   "id": "9299651f-983a-461d-86e2-1b1f52b33317",
   "metadata": {},
   "outputs": [],
   "source": [
    "display(df)"
   ]
  },
  {
   "cell_type": "code",
   "execution_count": null,
   "id": "3eeae27d-02c4-40a7-9a0d-92c7859a6b98",
   "metadata": {},
   "outputs": [],
   "source": [
    "print(to_sphinx(df))"
   ]
  },
  {
   "cell_type": "code",
   "execution_count": null,
   "id": "e0a3b5b0-1416-43cb-ae1d-28f87e148b85",
   "metadata": {},
   "outputs": [],
   "source": [
    "corr = df.corr()"
   ]
  },
  {
   "cell_type": "code",
   "execution_count": null,
   "id": "e600d99a-12a1-4cdd-bdf6-e1b3ee81a67c",
   "metadata": {},
   "outputs": [],
   "source": [
    "display(corr)"
   ]
  },
  {
   "cell_type": "code",
   "execution_count": null,
   "id": "03031ed7-2f9c-4d37-9627-860ac94e0bbe",
   "metadata": {},
   "outputs": [],
   "source": [
    "print(to_sphinx(corr))"
   ]
  },
  {
   "cell_type": "markdown",
   "id": "14940919-4f6d-4b63-babb-001d3abac641",
   "metadata": {},
   "source": [
    "# DataFrame.drop_duplicates()"
   ]
  },
  {
   "cell_type": "code",
   "execution_count": null,
   "id": "152f41ae-ea69-45f1-b647-2d5eb86f5351",
   "metadata": {},
   "outputs": [],
   "source": [
    "df = ak.DataFrame({'col1': [1, 2, 2, 3], 'col2': [4, 5, 5, 6]})"
   ]
  },
  {
   "cell_type": "code",
   "execution_count": null,
   "id": "7a2a4d4e-2955-4827-9e3f-acd59b3df3b2",
   "metadata": {},
   "outputs": [],
   "source": [
    "display(df)"
   ]
  },
  {
   "cell_type": "code",
   "execution_count": null,
   "id": "fed4ce86-d1ac-43d4-b99c-71fb04a27d13",
   "metadata": {},
   "outputs": [],
   "source": [
    "print(to_sphinx(df))"
   ]
  },
  {
   "cell_type": "code",
   "execution_count": null,
   "id": "905c902f-9481-4670-a2f3-b0f010b9552a",
   "metadata": {},
   "outputs": [],
   "source": [
    "df.drop_duplicates()"
   ]
  },
  {
   "cell_type": "code",
   "execution_count": null,
   "id": "d69f0556-2b69-4e7d-a946-7addf26c5ce5",
   "metadata": {},
   "outputs": [],
   "source": [
    "print(to_sphinx(df.drop_duplicates()))"
   ]
  },
  {
   "cell_type": "markdown",
   "id": "1deac276-6c09-41bb-8fc5-64a371005a9a",
   "metadata": {},
   "source": [
    "# DataFrame.filter_by_range"
   ]
  },
  {
   "cell_type": "code",
   "execution_count": null,
   "id": "a08dec53-b72b-4e56-adc8-9bf8032121e5",
   "metadata": {},
   "outputs": [],
   "source": [
    "df = ak.DataFrame({'col1': [1, 2, 2, 2, 3, 3], 'col2': [4, 5, 6, 7, 8, 9]})"
   ]
  },
  {
   "cell_type": "code",
   "execution_count": null,
   "id": "10a2da19-e66b-4485-a124-208cf68df7f0",
   "metadata": {},
   "outputs": [],
   "source": [
    "display(df)"
   ]
  },
  {
   "cell_type": "code",
   "execution_count": null,
   "id": "ea535728-98e0-43b1-b78e-342adf45ed25",
   "metadata": {},
   "outputs": [],
   "source": [
    "print(to_sphinx(df))"
   ]
  },
  {
   "cell_type": "code",
   "execution_count": null,
   "id": "eab8fab0-07ef-426a-9e0e-9dc651971cf1",
   "metadata": {},
   "outputs": [],
   "source": [
    "df.filter_by_range(\"col1\", low=1, high=2)"
   ]
  },
  {
   "cell_type": "code",
   "execution_count": null,
   "id": "60ff396f-1136-4aed-a8bf-d72561bdca13",
   "metadata": {},
   "outputs": [],
   "source": [
    "filtered_df = df[df.filter_by_range(\"col1\", low=1, high=2)]"
   ]
  },
  {
   "cell_type": "code",
   "execution_count": null,
   "id": "8aa91907-1546-4bad-afb9-eaa321e1fa7a",
   "metadata": {},
   "outputs": [],
   "source": [
    "display(filtered_df)"
   ]
  },
  {
   "cell_type": "code",
   "execution_count": null,
   "id": "c29f59a2-df67-4ed5-963b-8c982aea38fe",
   "metadata": {},
   "outputs": [],
   "source": [
    "print(to_sphinx(filtered_df))"
   ]
  },
  {
   "cell_type": "markdown",
   "id": "fd60e86d-580f-4737-bd22-0ec3a7d73627",
   "metadata": {},
   "source": [
    "# DataFrame.head"
   ]
  },
  {
   "cell_type": "code",
   "execution_count": null,
   "id": "b8d9e613-a5f9-416d-bbc5-9723d288477f",
   "metadata": {},
   "outputs": [],
   "source": [
    "df = ak.DataFrame({'col1': ak.arange(10), 'col2': -1 * ak.arange(10)})"
   ]
  },
  {
   "cell_type": "code",
   "execution_count": null,
   "id": "6ea47cb7-c9d9-4813-b807-a47f60cddbe2",
   "metadata": {},
   "outputs": [],
   "source": [
    "display(df)"
   ]
  },
  {
   "cell_type": "code",
   "execution_count": null,
   "id": "9baf874a-961d-4e4c-af37-54c8e51d02ef",
   "metadata": {},
   "outputs": [],
   "source": [
    "print(to_sphinx(df))"
   ]
  },
  {
   "cell_type": "code",
   "execution_count": null,
   "id": "308798e2-c96c-4978-b6f2-63e31d36b367",
   "metadata": {},
   "outputs": [],
   "source": [
    "df.head()"
   ]
  },
  {
   "cell_type": "code",
   "execution_count": null,
   "id": "b442cd50-6aa3-4a33-9c43-988012141bae",
   "metadata": {},
   "outputs": [],
   "source": [
    "print(to_sphinx(df.head()))"
   ]
  },
  {
   "cell_type": "code",
   "execution_count": null,
   "id": "4165b375-c723-405c-9565-546efe2fff05",
   "metadata": {},
   "outputs": [],
   "source": [
    "df.head(n=2)"
   ]
  },
  {
   "cell_type": "code",
   "execution_count": null,
   "id": "64e1c5a6-49cd-44e8-9eb3-07e0394c936f",
   "metadata": {},
   "outputs": [],
   "source": [
    "print(to_sphinx(df.head(n=2)))"
   ]
  },
  {
   "cell_type": "markdown",
   "id": "7b8015de-e57f-4a1a-9210-56cc97416e2d",
   "metadata": {},
   "source": [
    "# DataFrame.tail"
   ]
  },
  {
   "cell_type": "code",
   "execution_count": null,
   "id": "97fd4303-6d86-4efa-be40-b7b3ff07f66d",
   "metadata": {},
   "outputs": [],
   "source": [
    "df = ak.DataFrame({'col1': ak.arange(10), 'col2': -1 * ak.arange(10)})"
   ]
  },
  {
   "cell_type": "code",
   "execution_count": null,
   "id": "65e16596-d7bb-4f1f-a999-c4bd15fdeb2d",
   "metadata": {},
   "outputs": [],
   "source": [
    "display(df)"
   ]
  },
  {
   "cell_type": "code",
   "execution_count": null,
   "id": "63fff749-2bcb-46b9-8df7-057a07367008",
   "metadata": {},
   "outputs": [],
   "source": [
    "print(to_sphinx(df))"
   ]
  },
  {
   "cell_type": "code",
   "execution_count": null,
   "id": "c8042c56-4404-44c6-8a0b-4e5991752e7e",
   "metadata": {},
   "outputs": [],
   "source": [
    "df.tail()"
   ]
  },
  {
   "cell_type": "code",
   "execution_count": null,
   "id": "ba419c0f-f394-4405-89c4-1d0e6902fdcf",
   "metadata": {},
   "outputs": [],
   "source": [
    "print(to_sphinx(df.tail()))"
   ]
  },
  {
   "cell_type": "code",
   "execution_count": null,
   "id": "40cb8072-54c5-46b7-9f58-d084698f6bd0",
   "metadata": {},
   "outputs": [],
   "source": [
    "df.tail(n=2)"
   ]
  },
  {
   "cell_type": "code",
   "execution_count": null,
   "id": "82646fe9-089e-4312-8c50-7fa5f12494ed",
   "metadata": {},
   "outputs": [],
   "source": [
    "print(to_sphinx(df.tail(n=2)))"
   ]
  },
  {
   "cell_type": "markdown",
   "id": "c2dd54da-ad49-447d-a762-4f97c79eeb81",
   "metadata": {},
   "source": [
    "# DataFrame.isin()"
   ]
  },
  {
   "cell_type": "code",
   "execution_count": null,
   "id": "b4f421a3-1319-453c-b1dc-98f60f9ac265",
   "metadata": {},
   "outputs": [],
   "source": [
    "df = ak.DataFrame({'col_A': ak.array([7, 3]), 'col_B':ak.array([1, 9])})"
   ]
  },
  {
   "cell_type": "code",
   "execution_count": null,
   "id": "2c179e27-fadd-42ef-b4b6-941a598660bd",
   "metadata": {},
   "outputs": [],
   "source": [
    "display(df)"
   ]
  },
  {
   "cell_type": "code",
   "execution_count": null,
   "id": "4663d017-08ac-40d3-9943-1493793825b5",
   "metadata": {},
   "outputs": [],
   "source": [
    "print(to_sphinx(df))"
   ]
  },
  {
   "cell_type": "code",
   "execution_count": null,
   "id": "bd252647-673e-4856-9218-3ce46ab8163b",
   "metadata": {},
   "outputs": [],
   "source": [
    "df.isin(ak.array([0, 1]))"
   ]
  },
  {
   "cell_type": "code",
   "execution_count": null,
   "id": "e0bff32f-0b5e-4b79-935a-f335e1f5140f",
   "metadata": {},
   "outputs": [],
   "source": [
    "print(to_sphinx(df.isin(ak.array([0, 1]))))"
   ]
  },
  {
   "cell_type": "code",
   "execution_count": null,
   "id": "9e834ed8-0fc3-458d-9a15-3d563ae5ae26",
   "metadata": {},
   "outputs": [],
   "source": [
    "df.isin({'col_A': ak.array([0, 3])})"
   ]
  },
  {
   "cell_type": "code",
   "execution_count": null,
   "id": "2a1bfcf6-c5b0-44ee-bab1-140cebad80dc",
   "metadata": {},
   "outputs": [],
   "source": [
    "print(to_sphinx(df.isin({'col_A': ak.array([0, 3])})))"
   ]
  },
  {
   "cell_type": "code",
   "execution_count": null,
   "id": "f7adf2f6-9d27-4f1a-906a-e1fe981bbc5f",
   "metadata": {},
   "outputs": [],
   "source": [
    "i = ak.Index(ak.arange(2))"
   ]
  },
  {
   "cell_type": "code",
   "execution_count": null,
   "id": "c514ceab-0dab-4478-9d55-a06a8fb8f2ac",
   "metadata": {},
   "outputs": [],
   "source": [
    "s = ak.Series(data=ak.array([3, 9]), index=i)"
   ]
  },
  {
   "cell_type": "code",
   "execution_count": null,
   "id": "21fb9c35-7dab-4d11-b08a-58b63f70f98a",
   "metadata": {},
   "outputs": [],
   "source": [
    "df.isin(s)"
   ]
  },
  {
   "cell_type": "code",
   "execution_count": null,
   "id": "8bed3e88-6232-4abb-9e36-b2f927aafeb0",
   "metadata": {},
   "outputs": [],
   "source": [
    "print(to_sphinx(df.isin(s)))"
   ]
  },
  {
   "cell_type": "code",
   "execution_count": null,
   "id": "cf9f2ea6-7ab7-4584-b079-cf370c8e83ef",
   "metadata": {},
   "outputs": [],
   "source": [
    "other_df = ak.DataFrame({'col_A':ak.array([7, 3]), 'col_C':ak.array([0, 9])})"
   ]
  },
  {
   "cell_type": "code",
   "execution_count": null,
   "id": "d9560c3e-a176-4363-bd9a-821ed87b1d3f",
   "metadata": {},
   "outputs": [],
   "source": [
    "df.isin(other_df)"
   ]
  },
  {
   "cell_type": "code",
   "execution_count": null,
   "id": "96f9dac4-3513-47ff-8d89-57fca9e3d133",
   "metadata": {},
   "outputs": [],
   "source": [
    "print(to_sphinx(df.isin(other_df)))"
   ]
  },
  {
   "cell_type": "markdown",
   "id": "03d678fd-309b-4c74-a3ee-e6c539893c7a",
   "metadata": {},
   "source": [
    "# DataFrame.memory_usage"
   ]
  },
  {
   "cell_type": "code",
   "execution_count": null,
   "id": "88e684b2-bcd0-4012-83c2-8367c07ef0b9",
   "metadata": {},
   "outputs": [],
   "source": [
    "df = ak.DataFrame({'col1': ak.arange(1000), 'col2': ak.arange(1000)})"
   ]
  },
  {
   "cell_type": "code",
   "execution_count": null,
   "id": "6988dc43-b385-4517-917b-f415db0c5c2d",
   "metadata": {},
   "outputs": [],
   "source": [
    "df.memory_usage()"
   ]
  },
  {
   "cell_type": "code",
   "execution_count": null,
   "id": "208ebbec-0636-43fe-baff-a42b676c4c9b",
   "metadata": {},
   "outputs": [],
   "source": [
    "df.memory_usage(unit=\"KB\")"
   ]
  },
  {
   "cell_type": "markdown",
   "id": "8b860208-5fc4-4a73-b89c-42d84f7d4e2d",
   "metadata": {},
   "source": [
    "# DataFrame.merge"
   ]
  },
  {
   "cell_type": "code",
   "execution_count": null,
   "id": "06b3be3e-c9c3-468a-8441-b2e2b42d87bb",
   "metadata": {},
   "outputs": [],
   "source": [
    "left_df = ak.DataFrame({'col1': ak.arange(5), 'col2': -1 * ak.arange(5)})"
   ]
  },
  {
   "cell_type": "code",
   "execution_count": null,
   "id": "2d7ab7cb-b374-41fa-8145-ce7d92fced43",
   "metadata": {},
   "outputs": [],
   "source": [
    "display(left_df)"
   ]
  },
  {
   "cell_type": "code",
   "execution_count": null,
   "id": "33c7ade1-0eea-492b-a2fc-ef7341205c7b",
   "metadata": {},
   "outputs": [],
   "source": [
    "print(to_sphinx(left_df))"
   ]
  },
  {
   "cell_type": "code",
   "execution_count": null,
   "id": "508d42f9-a6f8-4168-8cee-f63f4c2ce5bf",
   "metadata": {},
   "outputs": [],
   "source": [
    "right_df = ak.DataFrame({'col1': 2 * ak.arange(5), 'col2': 2 * ak.arange(5)})"
   ]
  },
  {
   "cell_type": "code",
   "execution_count": null,
   "id": "6e032522-b57e-4f2d-84ab-c74c461146f3",
   "metadata": {},
   "outputs": [],
   "source": [
    "display(right_df)"
   ]
  },
  {
   "cell_type": "code",
   "execution_count": null,
   "id": "aa2c19c7-c289-47ab-a3d0-b88c25b828fc",
   "metadata": {},
   "outputs": [],
   "source": [
    "print(to_sphinx(right_df))"
   ]
  },
  {
   "cell_type": "code",
   "execution_count": null,
   "id": "6cb7d8b3-676e-41f7-8c0b-a36623dc0d13",
   "metadata": {},
   "outputs": [],
   "source": [
    "left_df.merge(right_df, on = \"col1\")"
   ]
  },
  {
   "cell_type": "code",
   "execution_count": null,
   "id": "1db8979e-ad8d-4472-a6a8-5f13b7972b57",
   "metadata": {},
   "outputs": [],
   "source": [
    "print(to_sphinx(left_df.merge(right_df, on = \"col1\")))"
   ]
  },
  {
   "cell_type": "code",
   "execution_count": null,
   "id": "d7a18742-b4ae-4e53-b38d-2318ddccd728",
   "metadata": {},
   "outputs": [],
   "source": [
    "left_df.merge(right_df, on = \"col1\", how = \"left\")"
   ]
  },
  {
   "cell_type": "code",
   "execution_count": null,
   "id": "5b978922-f029-4cef-b12c-60db8613debc",
   "metadata": {},
   "outputs": [],
   "source": [
    "print(to_sphinx(left_df.merge(right_df, on = \"col1\", how = \"left\")))"
   ]
  },
  {
   "cell_type": "code",
   "execution_count": null,
   "id": "351ab946-2b38-4b59-ad24-b749cafc6cba",
   "metadata": {},
   "outputs": [],
   "source": [
    "left_df.merge(right_df, on = \"col1\", how = \"right\")"
   ]
  },
  {
   "cell_type": "code",
   "execution_count": null,
   "id": "d87431e3-8b6b-48e8-b5cd-2ae8601989e5",
   "metadata": {},
   "outputs": [],
   "source": [
    "print(to_sphinx(left_df.merge(right_df, on = \"col1\", how = \"right\")))"
   ]
  },
  {
   "cell_type": "markdown",
   "id": "b07ea303-c874-4a29-877b-c1bc1b760636",
   "metadata": {},
   "source": [
    "# DataFrame.rename"
   ]
  },
  {
   "cell_type": "code",
   "execution_count": null,
   "id": "e07f9392-5037-4b78-9a77-b06b1ebf93a0",
   "metadata": {},
   "outputs": [],
   "source": [
    "df = ak.DataFrame({\"A\": ak.array([1, 2, 3]), \"B\": ak.array([4, 5, 6])})"
   ]
  },
  {
   "cell_type": "code",
   "execution_count": null,
   "id": "17d4adb3-b2d3-4d1d-a03f-4e597db54a0e",
   "metadata": {},
   "outputs": [],
   "source": [
    "display(df)"
   ]
  },
  {
   "cell_type": "code",
   "execution_count": null,
   "id": "b93f1f1a-cfc6-4665-8b19-3a919c5e7ea2",
   "metadata": {},
   "outputs": [],
   "source": [
    "print(to_sphinx(df))"
   ]
  },
  {
   "cell_type": "code",
   "execution_count": null,
   "id": "9ba0bed2-1e1b-4013-9837-92171346cd43",
   "metadata": {},
   "outputs": [],
   "source": [
    "df.rename(column={'A':'a', 'B':'c'})"
   ]
  },
  {
   "cell_type": "code",
   "execution_count": null,
   "id": "f3210221-a1c8-4195-af20-2f11a4b4ca40",
   "metadata": {},
   "outputs": [],
   "source": [
    "print(to_sphinx(df.rename(column={'A':'a', 'B':'c'})))"
   ]
  },
  {
   "cell_type": "code",
   "execution_count": null,
   "id": "3b19dc8f-1d17-4280-86fe-9ad61bd08aa2",
   "metadata": {},
   "outputs": [],
   "source": [
    "df.rename(index={0:99, 2:11})"
   ]
  },
  {
   "cell_type": "code",
   "execution_count": null,
   "id": "e169e1f1-91e5-450d-b23e-e7eccbaefb80",
   "metadata": {},
   "outputs": [],
   "source": [
    "print(to_sphinx(df.rename(index={0:99, 2:11})))"
   ]
  },
  {
   "cell_type": "code",
   "execution_count": null,
   "id": "10ec3711-1628-45ef-a791-ced51f3db5fe",
   "metadata": {},
   "outputs": [],
   "source": [
    "df.rename(str.lower, axis='column')"
   ]
  },
  {
   "cell_type": "code",
   "execution_count": null,
   "id": "5d0f979c-6043-4445-868c-53fcae28694e",
   "metadata": {},
   "outputs": [],
   "source": [
    "print(to_sphinx(df.rename(str.lower, axis='column')))"
   ]
  },
  {
   "cell_type": "markdown",
   "id": "188088ca-5906-4643-890e-ac51a2e8c875",
   "metadata": {},
   "source": [
    "# DataFrame.reset_index"
   ]
  },
  {
   "cell_type": "code",
   "execution_count": null,
   "id": "71857e1d-b130-41fd-89a6-1aa45373305c",
   "metadata": {},
   "outputs": [],
   "source": [
    "df = ak.DataFrame({\"A\": ak.array([1, 2, 3]), \"B\": ak.array([4, 5, 6])})"
   ]
  },
  {
   "cell_type": "code",
   "execution_count": null,
   "id": "730e2f52-8974-467d-857b-62a02f4c9f5e",
   "metadata": {},
   "outputs": [],
   "source": [
    "display(df)"
   ]
  },
  {
   "cell_type": "code",
   "execution_count": null,
   "id": "68632a67-5594-4701-9483-94f2855c03c1",
   "metadata": {},
   "outputs": [],
   "source": [
    "print(to_sphinx(df))"
   ]
  },
  {
   "cell_type": "code",
   "execution_count": null,
   "id": "d413bd24-ff88-4f8d-827a-1c39b5827605",
   "metadata": {},
   "outputs": [],
   "source": [
    "perm_df = df[ak.array([0,2,1])]"
   ]
  },
  {
   "cell_type": "code",
   "execution_count": null,
   "id": "59388b43-16f1-4593-9917-16eec2204443",
   "metadata": {},
   "outputs": [],
   "source": [
    "display(perm_df)"
   ]
  },
  {
   "cell_type": "code",
   "execution_count": null,
   "id": "33a04c93-802e-4a35-8ab2-30a46b4b08c9",
   "metadata": {},
   "outputs": [],
   "source": [
    "print(to_sphinx(perm_df))"
   ]
  },
  {
   "cell_type": "code",
   "execution_count": null,
   "id": "56ba09ad-2a3b-4774-89f2-b3e10028e551",
   "metadata": {},
   "outputs": [],
   "source": [
    "perm_df.reset_index()"
   ]
  },
  {
   "cell_type": "code",
   "execution_count": null,
   "id": "51cb0e0a-9daa-4db4-aa2c-ace5db9c1911",
   "metadata": {},
   "outputs": [],
   "source": [
    "print(to_sphinx(perm_df.reset_index()))"
   ]
  },
  {
   "cell_type": "code",
   "execution_count": null,
   "id": "0edb840b-a9b7-4e14-b113-edc6b91b216e",
   "metadata": {},
   "outputs": [],
   "source": [
    "perm_df.reset_index(size=3)"
   ]
  },
  {
   "cell_type": "markdown",
   "id": "f3a7ec14-d4a7-419a-9cff-a22d143d057e",
   "metadata": {},
   "source": [
    "# DataFrame.sample"
   ]
  },
  {
   "cell_type": "code",
   "execution_count": null,
   "id": "739ada74-76ae-477c-9fc5-87966436d8c7",
   "metadata": {},
   "outputs": [],
   "source": [
    "df = ak.DataFrame({\"A\": ak.arange(5), \"B\": -1 * ak.arange(5)})"
   ]
  },
  {
   "cell_type": "code",
   "execution_count": null,
   "id": "db71ce17-74a8-4ad2-ba6d-6f9f9b97d448",
   "metadata": {},
   "outputs": [],
   "source": [
    "display(df)"
   ]
  },
  {
   "cell_type": "code",
   "execution_count": null,
   "id": "8a7963fd-39f5-49a7-978b-7c64bebb2b7e",
   "metadata": {},
   "outputs": [],
   "source": [
    "print(to_sphinx(df))"
   ]
  },
  {
   "cell_type": "code",
   "execution_count": null,
   "id": "9510ad77-0911-4391-9fc0-3c215471fe48",
   "metadata": {},
   "outputs": [],
   "source": [
    "df.sample(n=3)"
   ]
  },
  {
   "cell_type": "code",
   "execution_count": null,
   "id": "28d8d5ba-d8c8-4ff3-abb8-3f829e71be32",
   "metadata": {},
   "outputs": [],
   "source": [
    "print(to_sphinx(df.sample(n=3)))"
   ]
  },
  {
   "cell_type": "markdown",
   "id": "dd3172a8-aba5-48bc-9a3f-e07dcac58a12",
   "metadata": {},
   "source": [
    "# DataFrame.save"
   ]
  },
  {
   "cell_type": "code",
   "execution_count": null,
   "id": "72993a5e-dc8d-4eb1-8655-a2673b3a135c",
   "metadata": {},
   "outputs": [],
   "source": [
    "df = ak.DataFrame({\"A\": ak.arange(5), \"B\": -1 * ak.arange(5)})"
   ]
  },
  {
   "cell_type": "code",
   "execution_count": null,
   "id": "783bccc0-f865-4007-8e2c-bc10935246f1",
   "metadata": {},
   "outputs": [],
   "source": [
    "import os.path\n",
    "from pathlib import Path\n",
    "my_path = os.path.join(os.getcwd(), 'hdf5_output','my_data')\n",
    "Path(my_path).mkdir(parents=True, exist_ok=True)\n"
   ]
  },
  {
   "cell_type": "code",
   "execution_count": null,
   "id": "b48264bd-74d2-40a2-a659-e3e0a156cdfb",
   "metadata": {},
   "outputs": [],
   "source": [
    "df.save(my_path, file_type=\"distribute\")"
   ]
  },
  {
   "cell_type": "code",
   "execution_count": null,
   "id": "8d62ce0b-8e54-4e90-a95c-c9b7f096e458",
   "metadata": {},
   "outputs": [],
   "source": [
    "df.save(my_path)"
   ]
  },
  {
   "cell_type": "code",
   "execution_count": null,
   "id": "ff388527-e220-4726-ae0a-fb37752581c8",
   "metadata": {},
   "outputs": [],
   "source": [
    "df.load(my_path)"
   ]
  },
  {
   "cell_type": "code",
   "execution_count": null,
   "id": "0c0fb3c7-9919-496b-aa2d-f85f13e0a99b",
   "metadata": {},
   "outputs": [],
   "source": [
    "df2 = df.load(my_path)"
   ]
  },
  {
   "cell_type": "code",
   "execution_count": null,
   "id": "6f948d96-b4fc-4f16-ac45-cf330538a9f1",
   "metadata": {},
   "outputs": [],
   "source": [
    "df2"
   ]
  },
  {
   "cell_type": "code",
   "execution_count": null,
   "id": "6241a7a5-99ad-4fed-86d4-5617c0b69739",
   "metadata": {},
   "outputs": [],
   "source": [
    "print(to_sphinx(df2))"
   ]
  },
  {
   "cell_type": "markdown",
   "id": "c68fa852-66a8-4dc9-bb8d-9e863c3a44fa",
   "metadata": {},
   "source": [
    "# DataFrame.to_pandas"
   ]
  },
  {
   "cell_type": "code",
   "execution_count": null,
   "id": "138b2869-70cc-4c93-9186-03c9065d8ee1",
   "metadata": {},
   "outputs": [],
   "source": [
    "ak_df = ak.DataFrame({\"A\": ak.arange(2), \"B\": -1 * ak.arange(2)})"
   ]
  },
  {
   "cell_type": "code",
   "execution_count": null,
   "id": "fd8ee2df-f925-4dbb-b08b-caae934d08f0",
   "metadata": {},
   "outputs": [],
   "source": [
    "display(ak_df)"
   ]
  },
  {
   "cell_type": "code",
   "execution_count": null,
   "id": "41d3a50a-0eff-4583-959e-893808783162",
   "metadata": {},
   "outputs": [],
   "source": [
    "print(to_sphinx(ak_df))"
   ]
  },
  {
   "cell_type": "code",
   "execution_count": null,
   "id": "61c9dd23-c6c1-4d2f-a153-36de5e9fe31f",
   "metadata": {},
   "outputs": [],
   "source": [
    "type(ak_df)"
   ]
  },
  {
   "cell_type": "code",
   "execution_count": null,
   "id": "ffac749c-d390-4b0e-8aa7-057c04d64b82",
   "metadata": {},
   "outputs": [],
   "source": [
    "pd_df = ak_df.to_pandas()"
   ]
  },
  {
   "cell_type": "code",
   "execution_count": null,
   "id": "8cb344e0-45de-4861-81a0-af8e417d9af1",
   "metadata": {},
   "outputs": [],
   "source": [
    "display(pd_df)"
   ]
  },
  {
   "cell_type": "code",
   "execution_count": null,
   "id": "4ef65f3d-9aca-40fc-a089-c7c6d790195a",
   "metadata": {},
   "outputs": [],
   "source": [
    "type(pd_df)"
   ]
  },
  {
   "cell_type": "markdown",
   "id": "041a2bf4-07c3-4c20-aada-b75474a0996d",
   "metadata": {},
   "source": [
    "# "
   ]
  },
  {
   "cell_type": "code",
   "execution_count": null,
   "id": "3b2d5129-f8f6-4b59-ba05-a3bbc7fefaa3",
   "metadata": {},
   "outputs": [],
   "source": [
    "display(pd_df)"
   ]
  },
  {
   "cell_type": "markdown",
   "id": "046dd6aa-81a6-4f93-af5b-8b8f97b2e7f0",
   "metadata": {},
   "source": [
    "# DataFrame.from_pandas"
   ]
  },
  {
   "cell_type": "code",
   "execution_count": null,
   "id": "ae38a18d-6fe8-4b15-8da4-9716889a7819",
   "metadata": {},
   "outputs": [],
   "source": [
    "pd_df = pd.DataFrame({\"A\":[1,2],\"B\":[3,4]})"
   ]
  },
  {
   "cell_type": "code",
   "execution_count": null,
   "id": "6bd25d89-ff20-4c3d-87f8-30bf3bf88d0a",
   "metadata": {},
   "outputs": [],
   "source": [
    "type(pd_df)"
   ]
  },
  {
   "cell_type": "code",
   "execution_count": null,
   "id": "73ed5ba2-f803-4a60-86a6-38de069271aa",
   "metadata": {},
   "outputs": [],
   "source": [
    "display(pd_df)"
   ]
  },
  {
   "cell_type": "code",
   "execution_count": null,
   "id": "da14911e-9730-4df9-9569-1f270e7496eb",
   "metadata": {},
   "outputs": [],
   "source": [
    "ak_df = DataFrame.from_pandas(pd_df)"
   ]
  },
  {
   "cell_type": "code",
   "execution_count": null,
   "id": "e3671755-e4d7-41ef-8d78-90f36ee5fb44",
   "metadata": {},
   "outputs": [],
   "source": [
    "type(ak_df)"
   ]
  },
  {
   "cell_type": "code",
   "execution_count": null,
   "id": "a797f3de-6fd8-44f5-b70b-4f1b392ac261",
   "metadata": {},
   "outputs": [],
   "source": [
    "display(ak_df)"
   ]
  },
  {
   "cell_type": "code",
   "execution_count": null,
   "id": "02989701-3171-45ba-bd84-dc15de066b40",
   "metadata": {},
   "outputs": [],
   "source": [
    "print(to_sphinx(ak_df))"
   ]
  },
  {
   "cell_type": "markdown",
   "id": "d0017e62-42c1-4fab-b5a9-2ac841593366",
   "metadata": {},
   "source": [
    "# DataFrame.to_csv"
   ]
  },
  {
   "cell_type": "code",
   "execution_count": null,
   "id": "190269de-1b0a-4401-bc9c-c422e4aa81e3",
   "metadata": {},
   "outputs": [],
   "source": [
    "import os.path\n",
    "from pathlib import Path\n",
    "my_path = os.path.join(os.getcwd(), 'csv_output')\n",
    "Path(my_path).mkdir(parents=True, exist_ok=True)"
   ]
  },
  {
   "cell_type": "code",
   "execution_count": null,
   "id": "98aa880e-012e-4285-a64b-bd0c1f376fe1",
   "metadata": {},
   "outputs": [],
   "source": [
    "df = ak.DataFrame({\"A\":[1,2],\"B\":[3,4]})"
   ]
  },
  {
   "cell_type": "code",
   "execution_count": null,
   "id": "28f04507-e453-47f1-8ea8-6cdd4a57aa59",
   "metadata": {},
   "outputs": [],
   "source": [
    "df.to_csv(my_path + \"/my_data\")"
   ]
  },
  {
   "cell_type": "code",
   "execution_count": null,
   "id": "0f428356-21cd-4fd1-b0dc-a3a6f2c64215",
   "metadata": {},
   "outputs": [],
   "source": [
    "print(my_path)"
   ]
  },
  {
   "cell_type": "code",
   "execution_count": null,
   "id": "3fc98e76-7648-4be1-bb5b-1145da7b5e4b",
   "metadata": {},
   "outputs": [],
   "source": [
    "df2 = DataFrame.read_csv(my_path + \"/my_data\" + \"_LOCALE0000\")"
   ]
  },
  {
   "cell_type": "code",
   "execution_count": null,
   "id": "bb30d55f-7c28-4cce-830e-918128831b0e",
   "metadata": {},
   "outputs": [],
   "source": [
    "display(df2)"
   ]
  },
  {
   "cell_type": "code",
   "execution_count": null,
   "id": "fcbfcdc3-522f-42be-baa6-b2750c56c346",
   "metadata": {},
   "outputs": [],
   "source": [
    "print(to_sphinx(df2))"
   ]
  },
  {
   "cell_type": "code",
   "execution_count": null,
   "id": "01752f0d-2f5f-43b2-96e8-785666fa925b",
   "metadata": {},
   "outputs": [],
   "source": [
    "df2"
   ]
  },
  {
   "cell_type": "markdown",
   "id": "eb281b0a-ab29-4080-968b-c14ef7a4d28d",
   "metadata": {},
   "source": [
    "# DataFrame.to_hdf"
   ]
  },
  {
   "cell_type": "code",
   "execution_count": null,
   "id": "b1d076a7-dadd-4ef5-ab03-e474597442f2",
   "metadata": {},
   "outputs": [],
   "source": [
    "import os.path\n",
    "from pathlib import Path\n",
    "my_path = os.path.join(os.getcwd(), 'hdf_output')\n",
    "Path(my_path).mkdir(parents=True, exist_ok=True)"
   ]
  },
  {
   "cell_type": "code",
   "execution_count": null,
   "id": "420ca7b3-167b-44fe-a839-1376656bc60a",
   "metadata": {},
   "outputs": [],
   "source": [
    "df = ak.DataFrame({\"A\":[1,2],\"B\":[3,4]})"
   ]
  },
  {
   "cell_type": "code",
   "execution_count": null,
   "id": "c58e0bc1-6111-4daf-a592-ee78952cd484",
   "metadata": {},
   "outputs": [],
   "source": [
    "df.to_hdf(my_path + \"/my_data\")"
   ]
  },
  {
   "cell_type": "code",
   "execution_count": null,
   "id": "6d5a00ef-f171-4824-be63-40c5d05efa9f",
   "metadata": {},
   "outputs": [],
   "source": [
    "df.load(my_path + \"/my_data\")"
   ]
  },
  {
   "cell_type": "code",
   "execution_count": null,
   "id": "66dcb78a-dfc6-45e1-a967-73249f14d01f",
   "metadata": {},
   "outputs": [],
   "source": [
    "print(to_sphinx(df.load(my_path + \"/my_data\")))"
   ]
  },
  {
   "cell_type": "markdown",
   "id": "dc9dd3ef-d7bd-47e6-905a-f50f7549b2e1",
   "metadata": {},
   "source": [
    "# DataFrame.to_parquet"
   ]
  },
  {
   "cell_type": "code",
   "execution_count": null,
   "id": "351f77f5-811e-452f-b2a5-74d986ad3dff",
   "metadata": {},
   "outputs": [],
   "source": [
    "import os.path\n",
    "from pathlib import Path\n",
    "my_path = os.path.join(os.getcwd(), 'parquet_output')\n",
    "Path(my_path).mkdir(parents=True, exist_ok=True)"
   ]
  },
  {
   "cell_type": "code",
   "execution_count": null,
   "id": "1a181834-f2b1-4ab6-9eec-418e728b26f8",
   "metadata": {},
   "outputs": [],
   "source": [
    "df = ak.DataFrame({\"A\":[1,2],\"B\":[3,4]})"
   ]
  },
  {
   "cell_type": "code",
   "execution_count": null,
   "id": "0bff06c7-9323-4f4f-b2b9-15d44d0dcd31",
   "metadata": {},
   "outputs": [],
   "source": [
    "df.to_parquet(my_path + \"/my_data\")"
   ]
  },
  {
   "cell_type": "code",
   "execution_count": null,
   "id": "02da7db0-2264-4467-a1fe-41b64d8fb61d",
   "metadata": {},
   "outputs": [],
   "source": [
    "df.load(my_path + \"/my_data\")"
   ]
  },
  {
   "cell_type": "code",
   "execution_count": null,
   "id": "9a7b441c-82fe-46c6-91db-94dfbfa14d39",
   "metadata": {},
   "outputs": [],
   "source": [
    "print(to_sphinx(df.load(my_path + \"/my_data\")))"
   ]
  },
  {
   "cell_type": "markdown",
   "id": "7e4de996-218f-4d70-86c8-5f7617dc09ef",
   "metadata": {},
   "source": [
    "# DataFrame.update_hdf"
   ]
  },
  {
   "cell_type": "code",
   "execution_count": null,
   "id": "687f8918-9a87-4837-bfe0-5df0967ce0cf",
   "metadata": {},
   "outputs": [],
   "source": [
    "import os.path\n",
    "from pathlib import Path\n",
    "my_path = os.path.join(os.getcwd(), 'hdf_output')\n",
    "Path(my_path).mkdir(parents=True, exist_ok=True)"
   ]
  },
  {
   "cell_type": "code",
   "execution_count": null,
   "id": "1632357f-291d-40e8-bf94-d2d6310bffa8",
   "metadata": {},
   "outputs": [],
   "source": [
    "df = ak.DataFrame({\"A\":[1,2],\"B\":[3,4]})"
   ]
  },
  {
   "cell_type": "code",
   "execution_count": null,
   "id": "2aaebf23-fb4d-49f2-9452-53c8778b74b6",
   "metadata": {},
   "outputs": [],
   "source": [
    "df.to_hdf(my_path + \"/my_data\")"
   ]
  },
  {
   "cell_type": "code",
   "execution_count": null,
   "id": "2a7502e8-1c4f-4cc8-9eb4-81de43ac1e84",
   "metadata": {},
   "outputs": [],
   "source": [
    "df.load(my_path + \"/my_data\")"
   ]
  },
  {
   "cell_type": "code",
   "execution_count": null,
   "id": "0e2f47cc-b05f-4f18-91bd-9dcf509d7064",
   "metadata": {},
   "outputs": [],
   "source": [
    "print(to_sphinx(df.load(my_path + \"/my_data\")))"
   ]
  },
  {
   "cell_type": "code",
   "execution_count": null,
   "id": "20e55dbf-e3cc-4409-9cff-a2aa1ff62505",
   "metadata": {},
   "outputs": [],
   "source": [
    "df2 = ak.DataFrame({\"A\":[5,6],\"B\":[7,8]})"
   ]
  },
  {
   "cell_type": "code",
   "execution_count": null,
   "id": "93cad87c-f4eb-460d-a804-4ae701433c12",
   "metadata": {},
   "outputs": [],
   "source": [
    "df2.update_hdf(my_path + \"/my_data\")"
   ]
  },
  {
   "cell_type": "code",
   "execution_count": null,
   "id": "af3a1f0e-7497-453a-9e02-94b87fb4ba5b",
   "metadata": {},
   "outputs": [],
   "source": [
    "df.load(my_path + \"/my_data\")"
   ]
  },
  {
   "cell_type": "code",
   "execution_count": null,
   "id": "b49f5de5-a81c-44ff-8899-45566c1246f0",
   "metadata": {},
   "outputs": [],
   "source": [
    "print(to_sphinx(df.load(my_path + \"/my_data\")))"
   ]
  },
  {
   "cell_type": "markdown",
   "id": "7cbb5454-3dba-4e46-8c6d-7450dc4b23e6",
   "metadata": {},
   "source": [
    "# GroupBy.broadcast"
   ]
  },
  {
   "cell_type": "code",
   "execution_count": null,
   "id": "d3ca5a0c-ce5f-4ffa-925a-7d1bf626d53a",
   "metadata": {},
   "outputs": [],
   "source": [
    "from arkouda.dataframe import GroupBy"
   ]
  },
  {
   "cell_type": "code",
   "execution_count": null,
   "id": "e8c39692-791d-4029-9161-e07fb6e41b18",
   "metadata": {},
   "outputs": [],
   "source": [
    "df = ak.DataFrame({\"A\":[1,2,2,3],\"B\":[3,4,5,6]})"
   ]
  },
  {
   "cell_type": "code",
   "execution_count": null,
   "id": "3e759e97-af0c-48da-a885-0dd6cea9ab8a",
   "metadata": {},
   "outputs": [],
   "source": [
    "display(df)"
   ]
  },
  {
   "cell_type": "code",
   "execution_count": null,
   "id": "72d55b34-50b3-4742-9391-88cb4a9fba23",
   "metadata": {},
   "outputs": [],
   "source": [
    "print(to_sphinx(df))"
   ]
  },
  {
   "cell_type": "code",
   "execution_count": null,
   "id": "c3ef68d8-c545-40b4-9072-ea0f290767d0",
   "metadata": {},
   "outputs": [],
   "source": [
    "gb = df.groupby(\"A\")"
   ]
  },
  {
   "cell_type": "code",
   "execution_count": null,
   "id": "fb0a2017-a82c-4c07-a283-51dc65c32949",
   "metadata": {},
   "outputs": [],
   "source": [
    "x = ak.array([10,11,12])"
   ]
  },
  {
   "cell_type": "code",
   "execution_count": null,
   "id": "9403ddc7-924e-4bff-a219-aaefdebd02f8",
   "metadata": {},
   "outputs": [],
   "source": [
    "s = GroupBy.broadcast(gb, x)"
   ]
  },
  {
   "cell_type": "code",
   "execution_count": null,
   "id": "4fb9727b-8ccb-4421-983e-88622d5567e1",
   "metadata": {},
   "outputs": [],
   "source": [
    "print(s)"
   ]
  },
  {
   "cell_type": "code",
   "execution_count": null,
   "id": "d8d933b2-37b3-487e-a310-b8022a4dafe6",
   "metadata": {},
   "outputs": [],
   "source": [
    "df[\"C\"] = s.values"
   ]
  },
  {
   "cell_type": "code",
   "execution_count": null,
   "id": "0c18fa3c-3258-419d-afb5-91999316b918",
   "metadata": {},
   "outputs": [],
   "source": [
    "display(df)"
   ]
  },
  {
   "cell_type": "code",
   "execution_count": null,
   "id": "5fec2a46-6e77-455a-a531-a68c7d41214c",
   "metadata": {},
   "outputs": [],
   "source": [
    "print(to_sphinx(df))"
   ]
  },
  {
   "cell_type": "markdown",
   "id": "ce726410-3898-4c90-b99a-eb4e5a84d20c",
   "metadata": {},
   "source": [
    "# GroupBy.count"
   ]
  },
  {
   "cell_type": "code",
   "execution_count": null,
   "id": "b5ce6739-e53d-4547-8971-abf50aa44e87",
   "metadata": {},
   "outputs": [],
   "source": [
    "df = ak.DataFrame({\"A\":[1,2,2,3],\"B\":[3,4,5,6]})"
   ]
  },
  {
   "cell_type": "code",
   "execution_count": null,
   "id": "77959fbc-d575-49ea-85e6-e84a4ba338a4",
   "metadata": {},
   "outputs": [],
   "source": [
    "display(df)"
   ]
  },
  {
   "cell_type": "code",
   "execution_count": null,
   "id": "f432f1bf-e39a-4fdc-8260-df9b28fb5bf4",
   "metadata": {},
   "outputs": [],
   "source": [
    "print(to_sphinx(df))"
   ]
  },
  {
   "cell_type": "code",
   "execution_count": null,
   "id": "ac5c8480-b835-4f72-8077-450bd45d8e44",
   "metadata": {},
   "outputs": [],
   "source": [
    "df.groupby(\"A\").count(as_series = False)"
   ]
  },
  {
   "cell_type": "code",
   "execution_count": null,
   "id": "f934532f-4d86-44fa-b081-24ef0c9b5d42",
   "metadata": {},
   "outputs": [],
   "source": [
    "print(to_sphinx(df.groupby(\"A\").count(as_series = False)))"
   ]
  },
  {
   "cell_type": "code",
   "execution_count": null,
   "id": "1a513a70-b80c-459c-97db-2734264fb8fc",
   "metadata": {},
   "outputs": [],
   "source": [
    "df.groupby(\"A\").count(as_series = True).to_pandas().to_markdown(tablefmt=\"grid\")"
   ]
  },
  {
   "cell_type": "markdown",
   "id": "d5f47b2a-bb70-456e-9fc0-8c982387002b",
   "metadata": {},
   "source": [
    "# GroupBy.size"
   ]
  },
  {
   "cell_type": "code",
   "execution_count": null,
   "id": "24bc1130-659e-41dd-a05d-0b26a20ea6dd",
   "metadata": {},
   "outputs": [],
   "source": [
    "df = ak.DataFrame({\"A\":[1,2,2,3],\"B\":[3,4,5,6]})"
   ]
  },
  {
   "cell_type": "code",
   "execution_count": null,
   "id": "7c35e9dc-f3e0-48b0-a6dc-72b008374266",
   "metadata": {},
   "outputs": [],
   "source": [
    "display(df)"
   ]
  },
  {
   "cell_type": "code",
   "execution_count": null,
   "id": "d84c1577-daf3-4e8a-a718-1bea614d3735",
   "metadata": {},
   "outputs": [],
   "source": [
    "print(to_sphinx(df))"
   ]
  },
  {
   "cell_type": "code",
   "execution_count": null,
   "id": "ac73ca29-ea11-46ab-8a9e-e467ac743683",
   "metadata": {},
   "outputs": [],
   "source": [
    "df.groupby(\"A\").size(as_series = False)"
   ]
  },
  {
   "cell_type": "code",
   "execution_count": null,
   "id": "6f470ce1-cf03-4c3a-a5ad-d09f6cd2a15f",
   "metadata": {},
   "outputs": [],
   "source": [
    "print(to_sphinx(df.groupby(\"A\").size(as_series = False)))"
   ]
  },
  {
   "cell_type": "code",
   "execution_count": null,
   "id": "9a56e562-f8b0-4130-8c16-b49eaea044c8",
   "metadata": {},
   "outputs": [],
   "source": [
    "df.groupby(\"A\").count(as_series = True).to_pandas().to_markdown(tablefmt=\"grid\")"
   ]
  },
  {
   "cell_type": "code",
   "execution_count": null,
   "id": "e38f4c2e-f0b4-4cd6-a041-aaf87b49b589",
   "metadata": {},
   "outputs": [],
   "source": []
  },
  {
   "cell_type": "code",
   "execution_count": null,
   "id": "bd9790b8-68a1-4263-8aab-9766364846a6",
   "metadata": {},
   "outputs": [],
   "source": []
  },
  {
   "cell_type": "code",
   "execution_count": null,
   "id": "5954fb8a-4efa-462c-8c55-95b3bd4e4c38",
   "metadata": {},
   "outputs": [],
   "source": []
  },
  {
   "cell_type": "code",
   "execution_count": null,
   "id": "1f24ded0-afa3-4457-bcb2-940287f09a95",
   "metadata": {},
   "outputs": [],
   "source": []
  },
  {
   "cell_type": "code",
   "execution_count": null,
   "id": "fb6cfa57-9cef-42ce-bc25-d84b7f4eb634",
   "metadata": {},
   "outputs": [],
   "source": []
  },
  {
   "cell_type": "code",
   "execution_count": null,
   "id": "fc6ca345-5b76-4566-9b2e-68411218f545",
   "metadata": {},
   "outputs": [],
   "source": []
  },
  {
   "cell_type": "code",
   "execution_count": null,
   "id": "64ede1b6-6904-464f-bfdd-9be9b4b80458",
   "metadata": {},
   "outputs": [],
   "source": []
  },
  {
   "cell_type": "code",
   "execution_count": null,
   "id": "11b6492d-c2f6-4b71-8a9a-8aa9cab36168",
   "metadata": {},
   "outputs": [],
   "source": []
  },
  {
   "cell_type": "code",
   "execution_count": null,
   "id": "9657ecd3-387c-458d-bd1c-9551ce788032",
   "metadata": {},
   "outputs": [],
   "source": []
  },
  {
   "cell_type": "code",
   "execution_count": null,
   "id": "a5a77b51-7a19-46c9-af73-c84b82efa33e",
   "metadata": {},
   "outputs": [],
   "source": []
  },
  {
   "cell_type": "markdown",
   "id": "8f5e4dfe-637a-47d8-825e-a169162477c4",
   "metadata": {},
   "source": [
    "# Example 1"
   ]
  },
  {
   "cell_type": "code",
   "execution_count": null,
   "id": "bae55898-460e-4df0-be95-a17fd136452e",
   "metadata": {},
   "outputs": [],
   "source": [
    "data = {\"key1\":[\"valuew\",\"valuex\",\"valuew\",\"valuex\"],\"key2\":[\"valueA\",\"valueB\",\"valueA\",\"valueB\"],\"key3\":[\"value1\",\"value2\",\"value3\",\"value4\"],\"count\":[34,25,11,4],\"nums\":[1,2,5,21]}\n",
    "\n",
    "pd_df = pd.DataFrame(data)\n",
    "ak_df = ak.DataFrame({k:ak.array(v) for k,v in data.items()})\n",
    "#spark_df = spark.createDataFrame(pd_df)\n",
    "\n",
    "print(\"\\nPandas DF\\n\")\n",
    "display(pd_df)\n",
    "\n",
    "print(\"\\nArkouda DF\\n\")\n",
    "display(ak_df)\n"
   ]
  },
  {
   "cell_type": "code",
   "execution_count": null,
   "id": "06e1c8c6-7b64-4711-96bd-80b773ffede0",
   "metadata": {},
   "outputs": [],
   "source": [
    "pd_result1 = pd_df.groupby([\"key1\",\"key2\"],as_index=False).size()\n",
    "\n",
    "ak_result1 = ak_df.groupby([\"key1\",\"key2\"],as_index=False).size()\n",
    "\n",
    "\n",
    "print(\"\\nPandas Result\\n\")\n",
    "print(\"Type: \" + str(type(pd_result1)) + \"\\n\")\n",
    "display(pd_result1)\n",
    "\n",
    "print(\"\\nArkouda Result\\n\")\n",
    "print(\"Type: \" + str(type(ak_result1)) + \"\\n\")\n",
    "display(ak_result1)\n",
    "\n",
    "isinstance(ak_result1, ak.dataframe.DataFrame)\n"
   ]
  },
  {
   "cell_type": "code",
   "execution_count": null,
   "id": "3bc785b6-211f-4ffd-9709-76995f3be7eb",
   "metadata": {},
   "outputs": [],
   "source": [
    "assert_frame_equal(pd_result1, ak_result1.to_pandas(retain_index=True))\n",
    "assert isinstance(ak_result1, ak.dataframe.DataFrame)"
   ]
  },
  {
   "cell_type": "code",
   "execution_count": null,
   "id": "fd06e6b0-d6ba-4aab-b3da-41a64473b3ea",
   "metadata": {},
   "outputs": [],
   "source": [
    "print(type(pd_df.groupby([\"key1\",\"key2\"],as_index=False).size()))\n",
    "print(type(pd_df.groupby([\"key1\"],as_index=False).size()))\n",
    "print(type(pd_df.groupby(\"key1\",as_index=False).size()))\n",
    "print(type(pd_df.groupby(\"key1\").size()))"
   ]
  },
  {
   "cell_type": "code",
   "execution_count": null,
   "id": "2d47f3de-2a3e-4738-ad61-f98bda21f4c1",
   "metadata": {},
   "outputs": [],
   "source": [
    "print(type(ak_df.groupby([\"key1\",\"key2\"],as_index=False).size()))\n",
    "print(type(ak_df.groupby([\"key1\"],as_index=False).size()))\n",
    "print(type(ak_df.groupby(\"key1\",as_index=False).size()))\n",
    "print(type(ak_df.groupby(\"key1\").size(as_series=True)))"
   ]
  },
  {
   "cell_type": "code",
   "execution_count": null,
   "id": "34286871-91ee-4582-8738-3544f895e7b8",
   "metadata": {},
   "outputs": [],
   "source": [
    "assert_frame_equal(ak_df.groupby([\"key1\",\"key2\"],as_index=False).size().to_pandas(retain_index=True),\n",
    "                           pd_df.groupby([\"key1\",\"key2\"],as_index=False).size())   "
   ]
  },
  {
   "cell_type": "code",
   "execution_count": null,
   "id": "73d1eac1-caa7-474b-af2b-d9036d2a6084",
   "metadata": {},
   "outputs": [],
   "source": [
    "assert_frame_equal(ak_df.groupby([\"key1\"],as_index=False).size().to_pandas(retain_index=True),\n",
    "                           pd_df.groupby([\"key1\"],as_index=False).size())   "
   ]
  },
  {
   "cell_type": "code",
   "execution_count": null,
   "id": "ca913fff-b394-4145-9edb-a68962b75ffa",
   "metadata": {},
   "outputs": [],
   "source": [
    "assert_frame_equal(ak_df.groupby(\"key1\",as_index=False).size().to_pandas(retain_index=True),\n",
    "                           pd_df.groupby(\"key1\",as_index=False).size())   "
   ]
  },
  {
   "cell_type": "code",
   "execution_count": null,
   "id": "21e5155b-a256-4d15-92ee-b336fe486cd0",
   "metadata": {},
   "outputs": [],
   "source": [
    "assert_series_equal(ak_df.groupby(\"key1\").size(as_series=True).to_pandas(),\n",
    "                           pd_df.groupby(\"key1\").size())"
   ]
  },
  {
   "cell_type": "code",
   "execution_count": null,
   "id": "fff679de-f3ac-4ae2-b39b-663e39be63f1",
   "metadata": {},
   "outputs": [],
   "source": [
    "ak_df.groupby(\"key1\").size().to_pandas()"
   ]
  },
  {
   "cell_type": "code",
   "execution_count": null,
   "id": "2b24f379-3ef4-491f-b582-55f12e6c96c9",
   "metadata": {},
   "outputs": [],
   "source": [
    "pd_df.groupby(\"key1\").size()"
   ]
  },
  {
   "cell_type": "code",
   "execution_count": null,
   "id": "a54aa331-56ce-4b19-ab6f-58a912c19a1f",
   "metadata": {},
   "outputs": [],
   "source": [
    "pd1 = pd_df.groupby([\"key1\",\"key2\"],as_index=False).size()\n",
    "ak1 = ak_df.groupby([\"key1\",\"key2\"],as_index=False).size()\n",
    "\n",
    "print(type(pd1 ))\n",
    "display(pd1)\n",
    "\n",
    "print(type(ak1))\n",
    "display(ak1)\n",
    "\n",
    "assert_frame_equal(pd1, ak1.to_pandas())\n"
   ]
  },
  {
   "cell_type": "code",
   "execution_count": null,
   "id": "be54086b-45bf-4fb7-b6d9-a5ef997b78e6",
   "metadata": {},
   "outputs": [],
   "source": [
    "print(ak_df.groupby([\"key1\",\"key2\"],as_index=True).as_index)\n",
    "\n",
    "pd2 = pd_df.groupby([\"key1\",\"key2\"],as_index=True).size()\n",
    "ak2 = ak_df.groupby([\"key1\",\"key2\"],as_index=True).size()\n",
    "\n",
    "\n",
    "\n",
    "print(type(pd2 ))\n",
    "display(pd2)\n",
    "\n",
    "print(type(ak2))\n",
    "display(ak2)\n",
    "\n",
    "# NOTE:  Arkouda does not name index columns, so check_names has to be False to pass the test\n",
    "assert_series_equal(pd2, ak2.to_pandas(),check_names=False)"
   ]
  },
  {
   "cell_type": "code",
   "execution_count": null,
   "id": "c3cefb69-c7b0-4037-9973-06807a38b3f6",
   "metadata": {},
   "outputs": [],
   "source": [
    "pd3 = pd_df.groupby([\"key1\"],as_index=False).size()\n",
    "ak3 = ak_df.groupby([\"key1\"],as_index=False).size()\n",
    "\n",
    "print(type(pd3 ))\n",
    "display(pd3)\n",
    "\n",
    "print(type(ak3))\n",
    "display(ak3)\n",
    "\n",
    "assert_frame_equal(pd3, ak3.to_pandas())"
   ]
  },
  {
   "cell_type": "code",
   "execution_count": null,
   "id": "3b6c85e6-5e20-4ab1-9839-8ffbd280e945",
   "metadata": {},
   "outputs": [],
   "source": [
    "pd4 = pd_df.groupby([\"key1\"],as_index=True).size()\n",
    "ak4 = ak_df.groupby([\"key1\"],as_index=True).size()\n",
    "\n",
    "print(type(pd4))\n",
    "display(pd4)\n",
    "\n",
    "print(type(ak4))\n",
    "display(ak4)\n",
    "\n",
    "assert_series_equal(pd4, ak4.to_pandas())"
   ]
  },
  {
   "cell_type": "code",
   "execution_count": null,
   "id": "d017ac6e-7751-479e-b453-0a939bdf423b",
   "metadata": {},
   "outputs": [],
   "source": [
    "pd5 = pd_df.groupby(\"key1\",as_index=False).size()\n",
    "ak5 = ak_df.groupby(\"key1\",as_index=False).size()\n",
    "\n",
    "print(type(pd5))\n",
    "display(pd5)\n",
    "\n",
    "print(type(ak5))\n",
    "display(ak5)\n",
    "\n",
    "assert_frame_equal(pd5, ak5.to_pandas())"
   ]
  },
  {
   "cell_type": "code",
   "execution_count": null,
   "id": "2e77b03e-8375-4da0-8b9c-d9affa976863",
   "metadata": {},
   "outputs": [],
   "source": [
    "pd6 = pd_df.groupby(\"key1\",as_index=True).size()\n",
    "ak6 = ak_df.groupby(\"key1\",as_index=True).size()\n",
    "\n",
    "print(type(pd6))\n",
    "display(pd6)\n",
    "\n",
    "print(type(ak6))\n",
    "display(ak6)\n",
    "\n",
    "assert_series_equal(pd6, ak6.to_pandas())"
   ]
  },
  {
   "cell_type": "code",
   "execution_count": null,
   "id": "a00c6d91-362a-4d44-aefd-f651fc7bf217",
   "metadata": {},
   "outputs": [],
   "source": [
    "for as_index in [True, False]:\n",
    "    for dropna in [True, False]:\n",
    "        for gb_keys in ['key1','key2',['key1','key2'],['count','key1','key2']]:\n",
    "            ak_result = ak_df.groupby(gb_keys,as_index=as_index, dropna=dropna).size()\n",
    "            pd_result = pd_df.groupby(gb_keys,as_index=as_index, dropna=dropna).size()\n",
    "\n",
    "            if isinstance(ak_result, ak.dataframe.DataFrame):\n",
    "                if(as_index == True):\n",
    "                    assert_frame_equal(ak_result.to_pandas(retain_index=True),\n",
    "                           pd_result)\n",
    "                else:\n",
    "                    assert_frame_equal(ak_result.to_pandas(retain_index=False),\n",
    "                           pd_result)\n",
    "            else:\n",
    "                assert_series_equal(ak_result.to_pandas(),\n",
    "                           pd_result)"
   ]
  },
  {
   "cell_type": "markdown",
   "id": "2118d51b-fd63-42d6-ae6d-fb277ece9d51",
   "metadata": {},
   "source": [
    "# Example 2"
   ]
  },
  {
   "cell_type": "code",
   "execution_count": null,
   "id": "52a38fe3-009f-4406-b025-95a0a8b0f9d6",
   "metadata": {},
   "outputs": [],
   "source": [
    "ak_df = DataFrame({\"gb_id\":ak.randint(0, 5, 20, dtype=ak.int64),\n",
    "                   \"float64\":ak.randint(0, 1, 20, dtype=ak.float64),\n",
    "                  \"int64\":ak.randint(0, 10, 20, dtype=ak.int64),\n",
    "                    \"uint64\":ak.randint(0, 10, 20, dtype=ak.uint64),\n",
    "                   \"bigint\":ak.randint(0, 10, 20, dtype=ak.uint64)+ 2**200,\n",
    "                   \"string\":ak.array([\"a\",\"b\",\"c\",\"d\",\"e\",\n",
    "                                    \"f\",\"g\",\"h\",\"i\",\"j\",\n",
    "                                    \"k\",\"l\",\"m\",\"n\",\"o\",\n",
    "                                    \"p\",\"q\",\"r\",\"s\",\"t\"])\n",
    "                  }\n",
    "                    )\n",
    "display(ak_df)"
   ]
  },
  {
   "cell_type": "code",
   "execution_count": null,
   "id": "755618d1-35a3-4a7d-a67e-206b8387b179",
   "metadata": {},
   "outputs": [],
   "source": [
    "pd_df = ak_df.to_pandas()\n",
    "display(pd_df)"
   ]
  },
  {
   "cell_type": "code",
   "execution_count": null,
   "id": "6271f0d5-eb16-465f-87db-3afe0faa6560",
   "metadata": {},
   "outputs": [],
   "source": [
    "display(pd_df.groupby(['gb_id']).size())\n",
    "print(\"\\n\")\n",
    "display(ak_df.groupby('gb_id').size())"
   ]
  },
  {
   "cell_type": "code",
   "execution_count": null,
   "id": "4cf133b8-d808-4140-a1e9-4ec5388e6466",
   "metadata": {},
   "outputs": [],
   "source": [
    "display(pd_df.groupby(['gb_id'],as_index = False).size())\n",
    "print(\"\\n\")\n",
    "display(ak_df.groupby('gb_id', as_index  = False).size())"
   ]
  },
  {
   "cell_type": "code",
   "execution_count": null,
   "id": "548220df-b0f0-4a71-9bbc-f0adec8143b6",
   "metadata": {},
   "outputs": [],
   "source": [
    "display(ak_df.groupby('gb_id',as_index=False).size().to_pandas(retain_index=True))\n",
    "display(pd_df.groupby('gb_id',as_index=False).size())\n",
    "\n",
    "assert_frame_equal(ak_df.groupby('gb_id',as_index=False).size().to_pandas(retain_index=True),\n",
    "                           pd_df.groupby('gb_id',as_index=False).size())        "
   ]
  },
  {
   "cell_type": "code",
   "execution_count": null,
   "id": "78f68133-75f5-40a2-9ff7-aa4d211dbc72",
   "metadata": {},
   "outputs": [],
   "source": [
    "assert_series_equal(ak_df.groupby('gb_id',as_index=True).size(as_series=True).to_pandas(),\n",
    "                           pd_df.groupby('gb_id',as_index=True).size()) "
   ]
  },
  {
   "cell_type": "code",
   "execution_count": null,
   "id": "fd73cb1f-7d4a-4e8c-aed0-03753756f2f5",
   "metadata": {},
   "outputs": [],
   "source": [
    "assert_frame_equal(ak_df.groupby(['gb_id'], as_index=False).size().to_pandas(retain_index=True),\n",
    "                           pd_df.groupby(['gb_id'], as_index=False).size())"
   ]
  },
  {
   "cell_type": "markdown",
   "id": "2a159933-a1f0-48e0-9c09-c529bbae043a",
   "metadata": {},
   "source": [
    "# Example 3"
   ]
  },
  {
   "cell_type": "code",
   "execution_count": null,
   "id": "565d5141-3b86-4629-8983-280f1ce33874",
   "metadata": {},
   "outputs": [],
   "source": [
    "def build_ak_df_example3():\n",
    "    data = {\n",
    "        \"key1\": [\"valuew\", \"valuex\", \"valuew\", \"valuex\"],\n",
    "        \"key2\": [\"valueA\", \"valueB\", \"valueA\", \"valueB\"],\n",
    "        \"nums1\": [1, np.nan, 3, 4],\n",
    "        \"nums2\": [1, np.nan, np.nan, 7],\n",
    "        \"nums3\":  [10, 8, 9, 7],\n",
    "    }\n",
    "    ak_df = ak.DataFrame({k: ak.array(v) for k, v in data.items()})\n",
    "    return ak_df"
   ]
  },
  {
   "cell_type": "code",
   "execution_count": null,
   "id": "cfe65e6f-7e0d-4f1b-a948-bc460ac192a9",
   "metadata": {},
   "outputs": [],
   "source": [
    "ak_df = build_ak_df_example3()\n",
    "print(\"arkouda\")\n",
    "display(ak_df)\n",
    "pd_df = ak_df.to_pandas()\n",
    "print(\"pandas\")\n",
    "display(pd_df)"
   ]
  },
  {
   "cell_type": "code",
   "execution_count": null,
   "id": "f8b9d86f-cc82-478c-b8ae-b3b6c2e0a7db",
   "metadata": {},
   "outputs": [],
   "source": [
    "ak_df.groupby('nums1',as_index=True).size(as_series=True)"
   ]
  },
  {
   "cell_type": "code",
   "execution_count": null,
   "id": "ffb22d75-c568-49af-af17-6d73fb80d8de",
   "metadata": {},
   "outputs": [],
   "source": [
    "ak_df.groupby('nums1',as_index=True).size(as_series=True)"
   ]
  },
  {
   "cell_type": "code",
   "execution_count": null,
   "id": "ecc3b3c5-39d1-48e8-9a98-be495b2e67d1",
   "metadata": {},
   "outputs": [],
   "source": [
    "for as_index in [True, False]:\n",
    "    for dropna in [True, False]:\n",
    "        for gb_keys in ['nums1','nums2',['nums1','nums2'],['nums1','nums3'],['nums3','nums1'],['nums1','nums2','nums3']]:\n",
    "            ak_result = ak_df.groupby(gb_keys,as_index=as_index, dropna=dropna).size()\n",
    "            pd_result = pd_df.groupby(gb_keys,as_index=as_index, dropna=dropna).size()\n",
    "\n",
    "            if isinstance(ak_result, ak.dataframe.DataFrame):\n",
    "                assert_frame_equal(ak_result.to_pandas(retain_index=True),\n",
    "                           pd_result)\n",
    "            else:\n",
    "                assert_series_equal(ak_result.to_pandas(),\n",
    "                           pd_result)\n",
    "      \n",
    "                "
   ]
  },
  {
   "cell_type": "code",
   "execution_count": null,
   "id": "b0876a33-9297-44e9-a699-bc65e446a03b",
   "metadata": {},
   "outputs": [],
   "source": [
    "assert_frame_equal(pd_result.sort_values(by=gb_keys),ak_result.sort_values(by=gb_keys).to_pandas())"
   ]
  },
  {
   "cell_type": "code",
   "execution_count": null,
   "id": "e31c2300-d13f-4651-a48d-b7d6f6885b45",
   "metadata": {},
   "outputs": [],
   "source": [
    "ak_df.groupby(['nums1','nums2','nums3'],as_index=True, dropna=True).size()"
   ]
  },
  {
   "cell_type": "code",
   "execution_count": null,
   "id": "9a136aef-669f-4241-9a76-d9ad386226a6",
   "metadata": {},
   "outputs": [],
   "source": [
    "ak_df.groupby(['nums1','nums2','nums3'],as_index=True, dropna=True).size().sort_values()"
   ]
  },
  {
   "cell_type": "code",
   "execution_count": null,
   "id": "7b7c520b-2a51-4172-9837-849785783eee",
   "metadata": {},
   "outputs": [],
   "source": [
    "pd_df.groupby(['nums1','nums2','nums3'],as_index=True, dropna=True).size().sort_index()"
   ]
  },
  {
   "cell_type": "code",
   "execution_count": null,
   "id": "2fa3a496-b481-4735-8e02-2ad16816863b",
   "metadata": {},
   "outputs": [],
   "source": [
    "ak_df.groupby(['nums1'],as_index=True, dropna=True).size().to_pandas()"
   ]
  },
  {
   "cell_type": "code",
   "execution_count": null,
   "id": "a55fbd01-b360-4bad-83fc-64cd943024aa",
   "metadata": {},
   "outputs": [],
   "source": [
    "s = ak_df.groupby(['nums1'],as_index=True, dropna=True).size()"
   ]
  },
  {
   "cell_type": "code",
   "execution_count": null,
   "id": "facfd6a2-8845-4074-9a94-cf52a8908e05",
   "metadata": {},
   "outputs": [],
   "source": [
    "type(s)"
   ]
  },
  {
   "cell_type": "code",
   "execution_count": null,
   "id": "7ca0b240-1000-4b7f-831a-cce3b93b788c",
   "metadata": {},
   "outputs": [],
   "source": [
    "from arkouda.sorting import argsort, coargsort\n",
    "argsort(s.index.values)"
   ]
  },
  {
   "cell_type": "markdown",
   "id": "c1ab21a3-d174-475e-aa88-db500ddaa89a",
   "metadata": {},
   "source": [
    "# Code Inspection"
   ]
  },
  {
   "cell_type": "code",
   "execution_count": null,
   "id": "40b396d2-985b-43e4-b1fd-2aec9ee44770",
   "metadata": {},
   "outputs": [],
   "source": [
    "lines = inspect.getsource(pd.core.groupby.generic.DataFrameGroupBy.size)\n",
    "print(lines)"
   ]
  },
  {
   "cell_type": "code",
   "execution_count": null,
   "id": "c99fd879-157a-4f57-b2f7-1cc6b1f759ff",
   "metadata": {},
   "outputs": [],
   "source": [
    "lines = inspect.getsource(ak.dataframe.GroupBy.size)\n",
    "print(lines)"
   ]
  },
  {
   "cell_type": "markdown",
   "id": "fa92785e-57e4-4bc0-a25e-c148a49f9c0f",
   "metadata": {},
   "source": [
    "# More Examples"
   ]
  },
  {
   "cell_type": "code",
   "execution_count": null,
   "id": "5df90118-9f68-44e8-8b7c-8e4f3252fb35",
   "metadata": {},
   "outputs": [],
   "source": [
    "def build_ak_df_example2():\n",
    "    data = {\"key1\":[\"valuew\", \"valuex\", \"valuew\", \"valuex\"], \"key2\":[\"valueA\", \"valueB\", \"valueA\", \"valueB\"], \"key3\":[\"value1\", \"value2\", \"value3\", \"value4\"], \"count\":[34, 25, 11, 4], \"nums\":[1, 2, 5, 21]}\n",
    "    ak_df = ak.DataFrame({k:ak.array(v) for k, v in data.items()})\n",
    "    return ak_df\n",
    "\n",
    "\n",
    "def build_ak_df_example3():\n",
    "    ak_df = ak.DataFrame({\"gb_id\":ak.randint(0, 5, 20, dtype=ak.int64),\n",
    "               \"float64\":ak.randint(0, 1, 20, dtype=ak.float64),\n",
    "              \"int64\":ak.randint(0, 10, 20, dtype=ak.int64),\n",
    "                \"uint64\":ak.randint(0, 10, 20, dtype=ak.uint64),\n",
    "               \"bigint\":ak.randint(0, 10, 20, dtype=ak.uint64) + 2 ** 200\n",
    "              }\n",
    "                )\n",
    "    return ak_df"
   ]
  },
  {
   "cell_type": "code",
   "execution_count": null,
   "id": "6e49cc0a-367b-488b-a026-c49ab13106f4",
   "metadata": {},
   "outputs": [],
   "source": [
    "    def build_pd_df():\n",
    "        username = [\"Alice\", \"Bob\", \"Alice\", \"Carol\", \"Bob\", \"Alice\"]\n",
    "        userid = [111, 222, 111, 333, 222, 111]\n",
    "        item = [0, 0, 1, 1, 2, 0]\n",
    "        day = [5, 5, 6, 5, 6, 6]\n",
    "        amount = [0.5, 0.6, 1.1, 1.2, 4.3, 0.6]\n",
    "        bi = [2 ** 200, 2 ** 200 + 1, 2 ** 200 + 2, 2 ** 200 + 3, 2 ** 200 + 4, 2 ** 200 + 5]\n",
    "        ui = (np.arange(6).astype(ak.uint64)) + 2 ** 63\n",
    "        return pd.DataFrame(\n",
    "            {\n",
    "                \"userName\": username,\n",
    "                \"userID\": userid,\n",
    "                \"item\": item,\n",
    "                \"day\": day,\n",
    "                \"amount\": amount,\n",
    "                \"bi\": bi,\n",
    "                \"ui\": ui,\n",
    "            }\n",
    "        )"
   ]
  },
  {
   "cell_type": "code",
   "execution_count": null,
   "id": "1c33b8fe-4908-441e-a156-048453d625ce",
   "metadata": {},
   "outputs": [],
   "source": [
    "\n",
    "    def build_ak_df():\n",
    "        return ak.DataFrame(build_pd_df())"
   ]
  },
  {
   "cell_type": "code",
   "execution_count": null,
   "id": "af11be14-2745-4d5a-b43d-c7fc0647ddea",
   "metadata": {},
   "outputs": [],
   "source": []
  },
  {
   "cell_type": "code",
   "execution_count": null,
   "id": "1db6d577-01ea-4815-ae45-796084a68243",
   "metadata": {},
   "outputs": [],
   "source": []
  },
  {
   "cell_type": "code",
   "execution_count": null,
   "id": "b682e636-0da9-47e1-84eb-289e23b689b9",
   "metadata": {},
   "outputs": [],
   "source": [
    "ak_df = DataFrame({\"gb_id\":ak.randint(0, 5, 20, dtype=ak.int64),\n",
    "                   \"float64\":ak.randint(0, 1, 20, dtype=ak.float64),\n",
    "                  \"int64\":ak.randint(0, 10, 20, dtype=ak.int64),\n",
    "                    \"uint64\":ak.randint(0, 10, 20, dtype=ak.uint64),\n",
    "                   \"bigint\":ak.randint(0, 10, 20, dtype=ak.uint64)+ 2**200\n",
    "                  }\n",
    "                    )\n",
    "display(ak_df)"
   ]
  },
  {
   "cell_type": "code",
   "execution_count": null,
   "id": "c371183f-794c-4fb7-98e1-e7fd709a178f",
   "metadata": {},
   "outputs": [],
   "source": []
  },
  {
   "cell_type": "code",
   "execution_count": null,
   "id": "af2f611e-b86f-4222-8d39-0a69f3d9af06",
   "metadata": {},
   "outputs": [],
   "source": []
  },
  {
   "cell_type": "code",
   "execution_count": null,
   "id": "c9aa550e-6f11-4875-8cdf-1614cd3febc2",
   "metadata": {},
   "outputs": [],
   "source": []
  },
  {
   "cell_type": "code",
   "execution_count": null,
   "id": "a1397d76-c49c-46da-ae5c-de57220d3948",
   "metadata": {},
   "outputs": [],
   "source": []
  }
 ],
 "metadata": {
  "kernelspec": {
   "display_name": "Python 3 (ipykernel)",
   "language": "python",
   "name": "python3"
  },
  "language_info": {
   "codemirror_mode": {
    "name": "ipython",
    "version": 3
   },
   "file_extension": ".py",
   "mimetype": "text/x-python",
   "name": "python",
   "nbconvert_exporter": "python",
   "pygments_lexer": "ipython3",
   "version": "3.10.13"
  }
 },
 "nbformat": 4,
 "nbformat_minor": 5
}
